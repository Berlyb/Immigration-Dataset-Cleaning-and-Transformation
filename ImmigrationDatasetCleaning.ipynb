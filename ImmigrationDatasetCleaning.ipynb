{
 "cells": [
  {
   "cell_type": "code",
   "execution_count": 1,
   "id": "38aa1ea2-f3be-4588-96f0-b088e082f042",
   "metadata": {},
   "outputs": [],
   "source": [
    "import pandas as pd\n",
    "\n",
    "Load the CSV\n",
    "data = pd.read_csv(\"98100357.csv\")\n",
    "\n",
    "# Save as Parquet\n",
    "data.to_parquet(\"Immigration_data.parquet\", engine=\"pyarrow\", compression=\"snappy\")  # Use Snappy compression\n",
    "\n",
    "\n"
   ]
  },
  {
   "cell_type": "markdown",
   "id": "fbb5efd4",
   "metadata": {},
   "source": []
  },
  {
   "cell_type": "code",
   "execution_count": 2,
   "id": "243686c0-518d-43bf-9152-321a6666bf2b",
   "metadata": {},
   "outputs": [],
   "source": [
    "#CONVERTED IMMIGRATION DATASET INTO PARQUET FORMAT SINCE FILE IS TOO LARGE"
   ]
  },
  {
   "cell_type": "code",
   "execution_count": null,
   "id": "ace50d3f-bee4-4c6c-b4f3-1eb4a9465bdd",
   "metadata": {},
   "outputs": [
    {
     "name": "stdout",
     "output_type": "stream",
     "text": [
      "   REF_DATE     GEO           DGUID    Age (15C)      Gender (3)  \\\n",
      "0      2021  Canada  2021A000011124  Total - Age  Total - Gender   \n",
      "1      2021  Canada  2021A000011124  Total - Age  Total - Gender   \n",
      "2      2021  Canada  2021A000011124  Total - Age  Total - Gender   \n",
      "3      2021  Canada  2021A000011124  Total - Age  Total - Gender   \n",
      "4      2021  Canada  2021A000011124  Total - Age  Total - Gender   \n",
      "\n",
      "  Statistics (3)   Ethni.c or cultural origin (530) Coordinate  \\\n",
      "0          Count  Total - Ethnic or cultural origin  1.1.1.1.1   \n",
      "1          Count             North American origins  1.1.1.1.2   \n",
      "2          Count             North American, n.o.s.  1.1.1.1.3   \n",
      "3          Count  North American Indigenous origins  1.1.1.1.4   \n",
      "4          Count  North American Indigenous, n.o.s.  1.1.1.1.5   \n",
      "\n",
      "   Ethnic or cultural origin: Single or multiple response indicator (3):Total - Single and multiple ethnic or cultural origin responses[1]  \\\n",
      "0                                           36328475                                                                                         \n",
      "1                                           10310005                                                                                         \n",
      "2                                              22780                                                                                         \n",
      "3                                            2204480                                                                                         \n",
      "4                                             194840                                                                                         \n",
      "\n",
      "  Symbol  \\\n",
      "0   None   \n",
      "1   None   \n",
      "2   None   \n",
      "3   None   \n",
      "4   None   \n",
      "\n",
      "   Ethnic or cultural origin: Single or multiple response indicator (3):Single ethnic or cultural origin responses[2]  \\\n",
      "0                                           23426005                                                                    \n",
      "1                                            6797585                                                                    \n",
      "2                                              15590                                                                    \n",
      "3                                             927400                                                                    \n",
      "4                                              81865                                                                    \n",
      "\n",
      "  Symbol.1  \\\n",
      "0     None   \n",
      "1     None   \n",
      "2     None   \n",
      "3     None   \n",
      "4     None   \n",
      "\n",
      "   Ethnic or cultural origin: Single or multiple response indicator (3):Multiple ethnic or cultural origin responses[3]  \\\n",
      "0                                           12902470                                                                      \n",
      "1                                            3512415                                                                      \n",
      "2                                               7190                                                                      \n",
      "3                                            1277080                                                                      \n",
      "4                                             112975                                                                      \n",
      "\n",
      "  Symbol.2  \n",
      "0     None  \n",
      "1     None  \n",
      "2     None  \n",
      "3     None  \n",
      "4     None  \n"
     ]
    }
   ],
   "source": [
    "import pandas as pd\n",
    "\n",
    "# Load Parquet file\n",
    "data = pd.read_parquet(\"Immigration_data.parquet\", engine=\"pyarrow\")\n",
    "\n",
    "# View the data\n",
    "print(data.head())\n"
   ]
  },
  {
   "cell_type": "code",
   "execution_count": 4,
   "id": "2fdb633c-e350-4377-9aef-3594d9837ed0",
   "metadata": {},
   "outputs": [
    {
     "name": "stdout",
     "output_type": "stream",
     "text": [
      "['Canada' 'Newfoundland and Labrador' 'Division No.  1' 'Division No.  2'\n",
      " 'Division No.  3' 'Division No.  4' 'Division No.  5' 'Division No.  6'\n",
      " 'Division No.  7' 'Division No.  8' 'Division No.  9' 'Division No. 10'\n",
      " 'Division No. 11' 'Prince Edward Island' 'Kings' 'Queens' 'Prince'\n",
      " 'Nova Scotia' 'Shelburne' 'Yarmouth' 'Digby' 'Annapolis' 'Lunenburg'\n",
      " 'Hants' 'Halifax' 'Colchester' 'Cumberland' 'Pictou' 'Guysborough'\n",
      " 'Antigonish' 'Inverness' 'Richmond' 'Cape Breton' 'Victoria'\n",
      " 'New Brunswick' 'Saint John' 'Charlotte' 'Sunbury' 'Albert' 'Westmorland'\n",
      " 'Kent' 'Northumberland' 'York' 'Carleton' 'Madawaska' 'Restigouche'\n",
      " 'Gloucester' 'Quebec' 'Communauté maritime des Îles-de-la-Madeleine'\n",
      " 'Le Rocher-Percé' 'La Côte-de-Gaspé' 'La Haute-Gaspésie' 'Bonaventure'\n",
      " 'Avignon' 'La Matapédia' 'La Matanie' 'La Mitis' 'Rimouski-Neigette'\n",
      " 'Les Basques' 'Rivière-du-Loup' 'Témiscouata' 'Kamouraska'\n",
      " 'Charlevoix-Est' 'Charlevoix' \"L'Islet\" 'Montmagny' 'Bellechasse'\n",
      " \"L'Île-d'Orléans\" 'La Côte-de-Beaupré' 'La Jacques-Cartier' 'Québec'\n",
      " 'Lévis' 'La Nouvelle-Beauce' 'Robert-Cliche' 'Les Etchemins'\n",
      " 'Beauce-Sartigan' 'Le Granit' 'Les Appalaches' \"L'Érable\" 'Lotbinière'\n",
      " 'Portneuf' 'Mékinac' 'Shawinigan' 'Francheville' 'Bécancour' 'Arthabaska'\n",
      " 'Les Sources' 'Le Haut-Saint-François' 'Le Val-Saint-François'\n",
      " 'Sherbrooke' 'Coaticook' 'Memphrémagog' 'Brome-Missisquoi'\n",
      " 'La Haute-Yamaska' 'Acton' 'Drummond' 'Nicolet-Yamaska' 'Maskinongé'\n",
      " \"D'Autray\" 'Pierre-De Saurel' 'Les Maskoutains' 'Rouville'\n",
      " 'Le Haut-Richelieu' 'La Vallée-du-Richelieu' 'Longueuil'\n",
      " \"Marguerite-D'Youville\" \"L'Assomption\" 'Joliette' 'Matawinie' 'Montcalm'\n",
      " 'Les Moulins' 'Laval' 'Montréal' 'Roussillon'\n",
      " 'Les Jardins-de-Napierville' 'Le Haut-Saint-Laurent'\n",
      " 'Beauharnois-Salaberry' 'Vaudreuil-Soulanges' 'Deux-Montagnes'\n",
      " 'Thérèse-De Blainville' 'Mirabel' 'La Rivière-du-Nord' 'Argenteuil'\n",
      " \"Les Pays-d'en-Haut\" 'Les Laurentides' 'Antoine-Labelle' 'Papineau'\n",
      " 'Gatineau' \"Les Collines-de-l'Outaouais\" 'La Vallée-de-la-Gatineau'\n",
      " 'Pontiac' 'Témiscamingue' 'Rouyn-Noranda' 'Abitibi-Ouest' 'Abitibi'\n",
      " \"La Vallée-de-l'Or\" 'La Tuque' 'Le Domaine-du-Roy' 'Maria-Chapdelaine'\n",
      " 'Lac-Saint-Jean-Est' 'Le Saguenay-et-son-Fjord' 'La Haute-Côte-Nord'\n",
      " 'Manicouagan' 'Sept-Rivières--Caniapiscau'\n",
      " 'Minganie--Le Golfe-du-Saint-Laurent' 'Nord-du-Québec' 'Ontario'\n",
      " 'Stormont, Dundas and Glengarry' 'Prescott and Russell' 'Ottawa'\n",
      " 'Leeds and Grenville' 'Lanark' 'Frontenac' 'Lennox and Addington'\n",
      " 'Hastings' 'Prince Edward' 'Peterborough' 'Kawartha Lakes' 'Durham'\n",
      " 'Toronto' 'Peel' 'Dufferin' 'Wellington' 'Halton' 'Hamilton' 'Niagara'\n",
      " 'Haldimand-Norfolk' 'Brant' 'Waterloo' 'Perth' 'Oxford' 'Elgin'\n",
      " 'Chatham-Kent' 'Essex' 'Lambton' 'Middlesex' 'Huron' 'Bruce' 'Grey'\n",
      " 'Simcoe' 'Muskoka' 'Haliburton' 'Renfrew' 'Nipissing' 'Parry Sound'\n",
      " 'Manitoulin' 'Sudbury' 'Greater Sudbury / Grand Sudbury' 'Timiskaming'\n",
      " 'Cochrane' 'Algoma' 'Thunder Bay' 'Rainy River' 'Kenora' 'Manitoba'\n",
      " 'Division No. 12' 'Division No. 13' 'Division No. 14' 'Division No. 15'\n",
      " 'Division No. 16' 'Division No. 17' 'Division No. 18' 'Division No. 19'\n",
      " 'Division No. 20' 'Division No. 21' 'Division No. 22' 'Division No. 23'\n",
      " 'Saskatchewan' 'Alberta' 'British Columbia' 'East Kootenay'\n",
      " 'Central Kootenay' 'Kootenay Boundary' 'Okanagan-Similkameen'\n",
      " 'Fraser Valley' 'Greater Vancouver' 'Capital' 'Cowichan Valley' 'Nanaimo'\n",
      " 'Alberni-Clayoquot' 'Strathcona' 'Comox Valley' 'Powell River'\n",
      " 'Sunshine Coast' 'Squamish-Lillooet' 'Thompson-Nicola' 'Central Okanagan'\n",
      " 'North Okanagan' 'Columbia-Shuswap' 'Cariboo' 'Mount Waddington'\n",
      " 'Central Coast' 'Skeena-Queen Charlotte' 'Kitimat-Stikine'\n",
      " 'Bulkley-Nechako' 'Fraser-Fort George' 'Peace River' 'Stikine'\n",
      " 'Northern Rockies' 'Yukon' 'Northwest Territories' 'Region 1' 'Region 2'\n",
      " 'Region 3' 'Region 4' 'Region 5' 'Region 6' 'Nunavut' 'Qikiqtaaluk'\n",
      " 'Kivalliq' 'Kitikmeot']\n"
     ]
    }
   ],
   "source": [
    "print(data[\"GEO\"].unique())\n"
   ]
  },
  {
   "cell_type": "code",
   "execution_count": 5,
   "id": "c86317e8-f454-45b7-bc08-fd98c4a57367",
   "metadata": {},
   "outputs": [
    {
     "name": "stdout",
     "output_type": "stream",
     "text": [
      "['2021A000011124' '2021A000210' '2021A00031001' '2021A00031002'\n",
      " '2021A00031003' '2021A00031004' '2021A00031005' '2021A00031006'\n",
      " '2021A00031007' '2021A00031008' '2021A00031009' '2021A00031010'\n",
      " '2021A00031011' '2021A000211' '2021A00031101' '2021A00031102'\n",
      " '2021A00031103' '2021A000212' '2021A00031201' '2021A00031202'\n",
      " '2021A00031203' '2021A00031204' '2021A00031205' '2021A00031206'\n",
      " '2021A00031207' '2021A00031208' '2021A00031209' '2021A00031210'\n",
      " '2021A00031211' '2021A00031212' '2021A00031213' '2021A00031214'\n",
      " '2021A00031215' '2021A00031216' '2021A00031217' '2021A00031218'\n",
      " '2021A000213' '2021A00031301' '2021A00031302' '2021A00031303'\n",
      " '2021A00031304' '2021A00031305' '2021A00031306' '2021A00031307'\n",
      " '2021A00031308' '2021A00031309' '2021A00031310' '2021A00031311'\n",
      " '2021A00031312' '2021A00031313' '2021A00031314' '2021A00031315'\n",
      " '2021A000224' '2021A00032401' '2021A00032402' '2021A00032403'\n",
      " '2021A00032404' '2021A00032405' '2021A00032406' '2021A00032407'\n",
      " '2021A00032408' '2021A00032409' '2021A00032410' '2021A00032411'\n",
      " '2021A00032412' '2021A00032413' '2021A00032414' '2021A00032415'\n",
      " '2021A00032416' '2021A00032417' '2021A00032418' '2021A00032419'\n",
      " '2021A00032420' '2021A00032421' '2021A00032422' '2021A00032423'\n",
      " '2021A00032425' '2021A00032426' '2021A00032427' '2021A00032428'\n",
      " '2021A00032429' '2021A00032430' '2021A00032431' '2021A00032432'\n",
      " '2021A00032433' '2021A00032434' '2021A00032435' '2021A00032436'\n",
      " '2021A00032437' '2021A00032438' '2021A00032439' '2021A00032440'\n",
      " '2021A00032441' '2021A00032442' '2021A00032443' '2021A00032444'\n",
      " '2021A00032445' '2021A00032446' '2021A00032447' '2021A00032448'\n",
      " '2021A00032449' '2021A00032450' '2021A00032451' '2021A00032452'\n",
      " '2021A00032453' '2021A00032454' '2021A00032455' '2021A00032456'\n",
      " '2021A00032457' '2021A00032458' '2021A00032459' '2021A00032460'\n",
      " '2021A00032461' '2021A00032462' '2021A00032463' '2021A00032464'\n",
      " '2021A00032465' '2021A00032466' '2021A00032467' '2021A00032468'\n",
      " '2021A00032469' '2021A00032470' '2021A00032471' '2021A00032472'\n",
      " '2021A00032473' '2021A00032474' '2021A00032475' '2021A00032476'\n",
      " '2021A00032477' '2021A00032478' '2021A00032479' '2021A00032480'\n",
      " '2021A00032481' '2021A00032482' '2021A00032483' '2021A00032484'\n",
      " '2021A00032485' '2021A00032486' '2021A00032487' '2021A00032488'\n",
      " '2021A00032489' '2021A00032490' '2021A00032491' '2021A00032492'\n",
      " '2021A00032493' '2021A00032494' '2021A00032495' '2021A00032496'\n",
      " '2021A00032497' '2021A00032498' '2021A00032499' '2021A000235'\n",
      " '2021A00033501' '2021A00033502' '2021A00033506' '2021A00033507'\n",
      " '2021A00033509' '2021A00033510' '2021A00033511' '2021A00033512'\n",
      " '2021A00033513' '2021A00033514' '2021A00033515' '2021A00033516'\n",
      " '2021A00033518' '2021A00033519' '2021A00033520' '2021A00033521'\n",
      " '2021A00033522' '2021A00033523' '2021A00033524' '2021A00033525'\n",
      " '2021A00033526' '2021A00033528' '2021A00033529' '2021A00033530'\n",
      " '2021A00033531' '2021A00033532' '2021A00033534' '2021A00033536'\n",
      " '2021A00033537' '2021A00033538' '2021A00033539' '2021A00033540'\n",
      " '2021A00033541' '2021A00033542' '2021A00033543' '2021A00033544'\n",
      " '2021A00033546' '2021A00033547' '2021A00033548' '2021A00033549'\n",
      " '2021A00033551' '2021A00033552' '2021A00033553' '2021A00033554'\n",
      " '2021A00033556' '2021A00033557' '2021A00033558' '2021A00033559'\n",
      " '2021A00033560' '2021A000246' '2021A00034601' '2021A00034602'\n",
      " '2021A00034603' '2021A00034604' '2021A00034605' '2021A00034606'\n",
      " '2021A00034607' '2021A00034608' '2021A00034609' '2021A00034610'\n",
      " '2021A00034611' '2021A00034612' '2021A00034613' '2021A00034614'\n",
      " '2021A00034615' '2021A00034616' '2021A00034617' '2021A00034618'\n",
      " '2021A00034619' '2021A00034620' '2021A00034621' '2021A00034622'\n",
      " '2021A00034623' '2021A000247' '2021A00034701' '2021A00034702'\n",
      " '2021A00034703' '2021A00034704' '2021A00034705' '2021A00034706'\n",
      " '2021A00034707' '2021A00034708' '2021A00034709' '2021A00034710'\n",
      " '2021A00034711' '2021A00034712' '2021A00034713' '2021A00034714'\n",
      " '2021A00034715' '2021A00034716' '2021A00034717' '2021A00034718'\n",
      " '2021A000248' '2021A00034801' '2021A00034802' '2021A00034803'\n",
      " '2021A00034804' '2021A00034805' '2021A00034806' '2021A00034807'\n",
      " '2021A00034808' '2021A00034809' '2021A00034810' '2021A00034811'\n",
      " '2021A00034812' '2021A00034813' '2021A00034814' '2021A00034815'\n",
      " '2021A00034816' '2021A00034817' '2021A00034818' '2021A00034819'\n",
      " '2021A000259' '2021A00035901' '2021A00035903' '2021A00035905'\n",
      " '2021A00035907' '2021A00035909' '2021A00035915' '2021A00035917'\n",
      " '2021A00035919' '2021A00035921' '2021A00035923' '2021A00035924'\n",
      " '2021A00035926' '2021A00035927' '2021A00035929' '2021A00035931'\n",
      " '2021A00035933' '2021A00035935' '2021A00035937' '2021A00035939'\n",
      " '2021A00035941' '2021A00035943' '2021A00035945' '2021A00035947'\n",
      " '2021A00035949' '2021A00035951' '2021A00035953' '2021A00035955'\n",
      " '2021A00035957' '2021A00035959' '2021A000260' '2021A00036001'\n",
      " '2021A000261' '2021A00036101' '2021A00036102' '2021A00036103'\n",
      " '2021A00036104' '2021A00036105' '2021A00036106' '2021A000262'\n",
      " '2021A00036204' '2021A00036205' '2021A00036208']\n"
     ]
    }
   ],
   "source": [
    "print(data[\"DGUID\"].unique())\n"
   ]
  },
  {
   "cell_type": "code",
   "execution_count": 6,
   "id": "75ff7310-7c72-4379-b5bc-7a53630972b1",
   "metadata": {},
   "outputs": [],
   "source": [
    "# List of provinces and territories\n",
    "provinces_territories = [\n",
    "    \"Newfoundland and Labrador\", \"Prince Edward Island\", \"Nova Scotia\",\n",
    "    \"New Brunswick\", \"Quebec\", \"Ontario\", \"Manitoba\", \"Saskatchewan\",\n",
    "    \"Alberta\", \"British Columbia\", \"Yukon\", \"Northwest Territories\", \"Nunavut\"\n",
    "]\n",
    "\n",
    "# Filter the data to include only provinces and territories\n",
    "filtered_data = data[data[\"GEO\"].isin(provinces_territories)]\n"
   ]
  },
  {
   "cell_type": "code",
   "execution_count": 7,
   "id": "06fe774e-b357-4c0a-8e93-7c52e3279b70",
   "metadata": {},
   "outputs": [
    {
     "name": "stdout",
     "output_type": "stream",
     "text": [
      "['Newfoundland and Labrador' 'Prince Edward Island' 'Nova Scotia'\n",
      " 'New Brunswick' 'Quebec' 'Ontario' 'Manitoba' 'Saskatchewan' 'Alberta'\n",
      " 'British Columbia' 'Yukon' 'Northwest Territories' 'Nunavut']\n"
     ]
    }
   ],
   "source": [
    "print(filtered_data[\"GEO\"].unique())\n"
   ]
  },
  {
   "cell_type": "code",
   "execution_count": 8,
   "id": "4b831bcd-a039-40e5-9cb8-532e4a1ae060",
   "metadata": {},
   "outputs": [
    {
     "name": "stdout",
     "output_type": "stream",
     "text": [
      "['2021A000210' '2021A000211' '2021A000212' '2021A000213' '2021A000224'\n",
      " '2021A000235' '2021A000246' '2021A000247' '2021A000248' '2021A000259'\n",
      " '2021A000260' '2021A00036001' '2021A000261' '2021A000262']\n"
     ]
    }
   ],
   "source": [
    "print(filtered_data[\"DGUID\"].unique())\n"
   ]
  },
  {
   "cell_type": "code",
   "execution_count": 9,
   "id": "1139e261-76d7-4f6f-a875-a2f0de84d010",
   "metadata": {},
   "outputs": [
    {
     "name": "stdout",
     "output_type": "stream",
     "text": [
      "Index(['REF_DATE', 'GEO', 'DGUID', 'Age (15C)', 'Gender (3)', 'Statistics (3)',\n",
      "       'Ethni.c or cultural origin (530)', 'Coordinate',\n",
      "       'Ethnic or cultural origin: Single or multiple response indicator (3):Total - Single and multiple ethnic or cultural origin responses[1]',\n",
      "       'Symbol',\n",
      "       'Ethnic or cultural origin: Single or multiple response indicator (3):Single ethnic or cultural origin responses[2]',\n",
      "       'Symbol.1',\n",
      "       'Ethnic or cultural origin: Single or multiple response indicator (3):Multiple ethnic or cultural origin responses[3]',\n",
      "       'Symbol.2'],\n",
      "      dtype='object')\n"
     ]
    }
   ],
   "source": [
    "\n",
    "print(filtered_data.columns)\n",
    "\n",
    "#print(filtered_data[\"Coordinate\"].unique())\n"
   ]
  },
  {
   "cell_type": "code",
   "execution_count": 10,
   "id": "3a063e77-9a28-4dc8-8763-a5853aecdb47",
   "metadata": {},
   "outputs": [
    {
     "name": "stdout",
     "output_type": "stream",
     "text": [
      "['Total - Ethnic or cultural origin' 'North American origins'\n",
      " 'North American, n.o.s.' 'North American Indigenous origins'\n",
      " 'North American Indigenous, n.o.s.'\n",
      " 'First Nations (North American Indian) origins'\n",
      " 'First Nations (North American Indian), n.o.s.' 'Abenaki'\n",
      " 'Anishinaabe origins' 'Anishinaabe, n.o.s.' 'Algonquin' 'Odawa' 'Ojibway'\n",
      " 'Oji-Cree' 'Potawatomi' 'Saulteaux' 'Anishinaabe origins, n.i.e.'\n",
      " 'Apache' 'Atikamekw' 'Blackfoot origins' 'Blackfoot, n.o.s.'\n",
      " 'Blood (Kainai)' 'Piikani' 'Siksika' 'Blackfoot origins, n.i.e.'\n",
      " 'Cherokee' 'Cheyenne' 'Choctaw' 'Cree origins' 'Cree, n.o.s.'\n",
      " 'Moose Cree' 'Plains Cree' 'Swampy Cree' 'Woodland Cree'\n",
      " 'Cree origins, n.i.e.' 'Delaware (Lenape)' 'Dene origins' 'Dene, n.o.s.'\n",
      " 'Beaver (Dunne-za)' 'Carrier (Dakelh)' \"Chilcotin (Tsilhqot'in)\"\n",
      " 'Chipewyan (Denesuline)' 'Dene Tha’ (Slavey)' \"Gwich'in\" 'Kaska'\n",
      " 'Sahtú (North Slavey)' 'Tahltan' 'Tlicho (Dogrib)' 'Tlingit'\n",
      " \"Tse'khene (Sekani)\" \"Tsuut'ina (Sarcee)\" 'Tutchone' \"Wet'suwet'en\"\n",
      " 'Dene origins, n.i.e.' 'Gitxsan' 'Haida' 'Haisla' 'Heiltsuk'\n",
      " 'Huron (Wendat)' 'Innu origins' 'Innu/Montagnais, n.o.s.' 'Naskapi'\n",
      " 'Iroquoian (Haudenosaunee) origins' 'Iroquois (Haudenosaunee), n.o.s.'\n",
      " 'Cayuga' 'Mohawk' 'Oneida' 'Tuscarora'\n",
      " 'Iroquoian (Haudenosaunee) origins, n.i.e.' 'Ktunaxa (Kutenai)'\n",
      " \"Kwakwaka'wakw origins\" \"Kwakwaka'wakw, n.o.s.\" 'Kwakiutl'\n",
      " 'Laich-kwil-tach' \"'Namgis\" 'Quatsino' \"Kwakwaka'wakw origins, n.i.e.\"\n",
      " 'Maliseet' \"Mi'kmaq origins\" \"Mi'kmaq, n.o.s.\" \"Qalipu Mi'kmaq\" 'Navajo'\n",
      " \"Nisga'a\" 'Nuu-chah-nulth origins' 'Nuu-chah-nulth, n.o.s.' 'Ahousaht'\n",
      " 'Ditidaht' 'Tla-o-qui-aht' 'Tseshaht' 'Nuu-chah-nulth origins, n.i.e.'\n",
      " 'Nuxalk' 'Passamaquoddy' 'Salish origins' 'Salish, n.o.s.'\n",
      " 'Coast Salish origins' 'Coast Salish, n.o.s.' \"Chemainus (Stz'uminus)\"\n",
      " 'Cowichan' 'Homalco' 'Musqueam' 'Penelakut' 'Shíshálh (Sechelt)'\n",
      " 'Snuneymuxw' 'Squamish' 'Stó:lo' 'WSÁNEC (Saanich)'\n",
      " 'Coast Salish origins, n.i.e.' 'Interior Salish origins'\n",
      " 'Interior Salish, n.o.s.' \"Nlaka'pamux (Thompson)\" 'Okanagan (Syilx)'\n",
      " 'Secwepemc (Shuswap)' \"St'at'imc (Lillooet)\"\n",
      " 'Interior Salish origins, n.i.e.' 'Siouan origins' 'Sioux, n.o.s.'\n",
      " 'Assiniboine' 'Dakota' 'Lakota' 'Stoney (Nakoda)' 'Tsimshian' 'Wuikinuxv'\n",
      " 'First Nations (North American Indian) origins, n.i.e.' 'Inuit origins'\n",
      " 'Inuit, n.o.s.' 'Inuvialuit' 'Inuit origins, n.i.e.' 'Métis'\n",
      " 'Other North American origins' 'Acadian' 'African American'\n",
      " 'African Canadian' 'African Nova Scotian' 'Albertan' 'American'\n",
      " 'British Columbian' 'Canadian' 'Cape Bretoner' 'Franco Ontarian'\n",
      " 'French Canadian' 'Gaspesian' 'Manitoban' 'New Brunswicker'\n",
      " 'Newfoundlander' 'Nova Scotian' 'Ontarian' 'Pennsylvania Dutch'\n",
      " 'Prince Edward Islander' 'Québécois' 'Saskatchewanian'\n",
      " 'United Empire Loyalist' 'Other North American origins, n.i.e.'\n",
      " 'European origins' 'European, n.o.s.' 'British Isles origins'\n",
      " 'British Isles, n.o.s.' 'Channel Islander' 'Cornish' 'English' 'Irish'\n",
      " 'Manx' 'Northern Irish' 'Orcadian' 'Scottish' 'Ulster Scot' 'Welsh'\n",
      " 'British Isles origins, n.i.e.' 'French origins' 'French, n.o.s.'\n",
      " 'Alsatian' 'Breton' 'Corsican' 'Norman' 'French origins, n.i.e.'\n",
      " 'Other Western European origins' 'Western European, n.o.s.' 'Austrian'\n",
      " 'Bavarian' 'Belgian' 'Dutch' 'Flemish' 'Frisian' 'German' 'Luxembourger'\n",
      " 'Swiss' 'Walloon' 'Other Western European origins, n.i.e.'\n",
      " 'Other Northern European origins' 'Northern European, n.o.s.' 'Danish'\n",
      " 'Finnish' 'Icelandic' 'Norwegian' 'Sami' 'Swedish'\n",
      " 'Other Northern European origins, n.i.e.' 'Southern European origins'\n",
      " 'Southern European, n.o.s.' 'Azorean' 'Basque' 'Catalan' 'Galician'\n",
      " 'Greek' 'Italian' 'Maltese' 'Portuguese' 'Sicilian' 'Spanish'\n",
      " 'Southern European origins, n.i.e.' 'Southeast European origins'\n",
      " 'Southeast European, n.o.s.' 'Albanian' 'Bosniak' 'Bosnian' 'Bulgarian'\n",
      " 'Croatian' 'Kosovar' 'Macedonian' 'Moldovan' 'Montenegrin' 'Romanian'\n",
      " 'Serbian' 'Slovenian' 'Transylvanian' 'Yugoslavian, n.o.s.'\n",
      " 'Southeast European origins, n.i.e.' 'Eastern European origins'\n",
      " 'Eastern European, n.o.s.' 'Bohemian' 'Byelorussian' 'Czech'\n",
      " 'Czechoslovakian, n.o.s.' 'Estonian' 'Hungarian' 'Kashubian' 'Latvian'\n",
      " 'Lithuanian' 'Polish' 'Russian' 'Ruthenian' 'Slovak' 'Ukrainian'\n",
      " 'Eastern European origins, n.i.e.' 'Other European origins'\n",
      " 'Celtic, n.o.s.' 'Roma' 'Slavic, n.o.s.' 'Other European origins, n.i.e.'\n",
      " 'Caribbean origins' 'Caribbean, n.o.s.' 'African Caribbean' 'Antiguan'\n",
      " 'Aruban' 'Bahamian' 'Barbadian' 'Bermudian' 'Carib' 'Cuban'\n",
      " 'Dominica Islander' 'Dominican' 'Grenadian' 'Guadeloupean' 'Haitian'\n",
      " 'Indo-Caribbean' 'Jamaican' 'Kittitian/Nevisian' 'Maroon' 'Martinican'\n",
      " 'Montserratian' 'Puerto Rican' 'St. Lucian' 'Trinidadian/Tobagonian'\n",
      " 'Vincentian' 'West Indian, n.o.s.' 'Caribbean origins, n.i.e.'\n",
      " 'Latin, Central and South American origins'\n",
      " 'Latin, Central or South American, n.o.s.' 'Arawak' 'Argentinian'\n",
      " 'Belizean' 'Bolivian' 'Brazilian' 'Chilean' 'Colombian' 'Costa Rican'\n",
      " 'Ecuadorian' 'Guatemalan' 'Guyanese' 'Hispanic, n.o.s.' 'Honduran'\n",
      " 'Indigenous origins from Latin, Central and South America, n.i.e.'\n",
      " 'Indo-Guyanese' 'Mapuche' 'Mayan' 'Mexican' 'Nicaraguan' 'Panamanian'\n",
      " 'Paraguayan' 'Peruvian' 'Pipil' 'Quechua' 'Salvadorean' 'Surinamese'\n",
      " 'Uruguayan' 'Venezuelan'\n",
      " 'Latin, Central and South American origins, n.i.e.' 'African origins'\n",
      " 'African, n.o.s.' 'Central and West African origins'\n",
      " 'Central or West African, n.o.s.' 'Akan, n.o.s.' 'Angolan' 'Ashanti'\n",
      " 'Bambara' 'Bamileke' 'Baoulé' 'Beninese' 'Burkinabe' 'Cameroonian'\n",
      " 'Cape Verdean' 'Central African' 'Chadian' 'Congolese' 'Edo' 'Esan' 'Ewe'\n",
      " 'Fante' 'Fulani' 'Ga-Adangbe' 'Gabonese' 'Gambian' 'Ghanaian' 'Guinean'\n",
      " 'Hausa' 'Igbo' 'Ivorian' 'Liberian' 'Luba' 'Malian' 'Malinké'\n",
      " 'Mauritanian' 'Mossi' 'Nigerian' 'Nigerien' 'Senegalese' 'Serer'\n",
      " 'Sierra Leonean' 'Soninke' 'Togolese' 'Wolof' 'Yoruba'\n",
      " 'Central and West African origins, n.i.e.' 'North African origins'\n",
      " 'North African, n.o.s.' 'Algerian' 'Berber' 'Dinka' 'Egyptian' 'Kabyle'\n",
      " 'Libyan' 'Moroccan' 'Sudanese' 'Tunisian' 'North African origins, n.i.e.'\n",
      " 'Southern and East African origins' 'Southern or East African, n.o.s.'\n",
      " 'Afar' 'Afrikaner' 'Amhara' 'Bantu, n.o.s.' 'Burundian' 'Djiboutian'\n",
      " 'Eritrean' 'Ethiopian' 'Harari' 'Hutu' 'Kenyan' 'Kikuyu' 'Luo' 'Malagasy'\n",
      " 'Malawian' 'Mauritian' 'Mozambican' 'Namibian' 'Ndebele' 'Nubian' 'Oromo'\n",
      " 'Réunionnais' 'Rwandan' 'Seychellois' 'Shona' 'Somali' 'South African'\n",
      " 'South Sudanese' 'Swahili' 'Tanzanian' 'Tigrinya' 'Tswana (Batswana)'\n",
      " 'Tutsi' 'Ugandan' 'Zambian' 'Zimbabwean' 'Zulu'\n",
      " 'Southern and East African origins, n.i.e.' 'African origins, n.i.e.'\n",
      " 'Asian origins' 'Asian, n.o.s.'\n",
      " 'West and Central Asian and Middle Eastern origins'\n",
      " 'West or Central Asian or Middle Eastern, n.o.s.' 'Afghan' 'Armenian'\n",
      " 'Assyrian' 'Azerbaijani' 'Baloch' 'Circassian' 'Cypriot' 'Georgian'\n",
      " 'Greek Cypriot' 'Hazara' 'Iranian' 'Iraqi' 'Israeli' 'Jordanian' 'Kazakh'\n",
      " 'Kurdish' 'Kuwaiti' 'Kyrgyz' 'Lebanese' 'Omani' 'Palestinian' 'Pashtun'\n",
      " 'Persian' 'Saudi Arabian' 'Syrian' 'Tajik' 'Tatar' 'Turkish' 'Turkmen'\n",
      " 'Uyghur' 'Uzbek' 'Yemeni'\n",
      " 'West and Central Asian and Middle Eastern origins, n.i.e.'\n",
      " 'South Asian origins' 'South Asian, n.o.s.' 'Anglo-Indian' 'Bangladeshi'\n",
      " 'Bengali' 'Bhutanese' 'Goan' 'Gujarati' 'Indian (India)' 'Jatt'\n",
      " 'Kashmiri' 'Maharashtrian' 'Malayali' 'Nepali' 'Pakistani' 'Punjabi'\n",
      " 'Sindhi' 'Sinhalese' 'Sri Lankan' 'Tamil' 'Telugu'\n",
      " 'South Asian origins, n.i.e.' 'East and Southeast Asian origins'\n",
      " 'East or Southeast Asian, n.o.s.' 'Bruneian' 'Burmese'\n",
      " 'Cambodian (Khmer)' 'Chin' 'Chinese' 'Filipino' 'Hmong' 'Hong Konger'\n",
      " 'Igorot' 'Ilocano' 'Indonesian' 'Japanese' 'Javanese' 'Karen' 'Korean'\n",
      " 'Laotian' 'Malay' 'Malaysian' 'Mongolian' 'Singaporean' 'Taiwanese'\n",
      " 'Thai' 'Tibetan' 'Vietnamese' 'East and Southeast Asian origins, n.i.e.'\n",
      " 'Asian origins, n.i.e.' 'Oceanian origins' 'Oceanian, n.o.s.'\n",
      " 'Pacific Islands origins' 'Pacific Islander, n.o.s.' 'Fijian' 'Hawaiian'\n",
      " 'Indo-Fijian' 'Polynesian, n.o.s.' 'Samoan' 'Tongan'\n",
      " 'Pacific Islands origins, n.i.e.' 'Other Oceanian origins' 'Australian'\n",
      " 'Maori' 'New Zealander' 'Other Oceanian origins, n.i.e.'\n",
      " 'Other ethnic and cultural origins' 'Amish' 'Arab, n.o.s.'\n",
      " 'Black, n.o.s.' 'Buddhist' 'Caucasian (White), n.o.s.' 'Chaldean'\n",
      " 'Christian, n.i.e.' 'Coptic' 'Creole, n.o.s.' 'Doukhobor'\n",
      " 'Eurasian, n.o.s.' 'Hindu' 'Huguenot' 'Hutterite' 'Jewish' 'Mennonite'\n",
      " 'Muslim' 'Sikh' 'Yazidi' 'Zoroastrian'\n",
      " 'Other ethnic and cultural origins, n.i.e.']\n"
     ]
    }
   ],
   "source": [
    "print(filtered_data[\"Ethni.c or cultural origin (530)\"].unique())\n"
   ]
  },
  {
   "cell_type": "code",
   "execution_count": 11,
   "id": "1a2faa31-39bf-46ff-bb57-3aafd74ab98b",
   "metadata": {},
   "outputs": [
    {
     "name": "stdout",
     "output_type": "stream",
     "text": [
      "       REF_DATE                        GEO        DGUID    Age (15C)  \\\n",
      "71550      2021  Newfoundland and Labrador  2021A000210  Total - Age   \n",
      "71551      2021  Newfoundland and Labrador  2021A000210  Total - Age   \n",
      "71552      2021  Newfoundland and Labrador  2021A000210  Total - Age   \n",
      "71553      2021  Newfoundland and Labrador  2021A000210  Total - Age   \n",
      "71554      2021  Newfoundland and Labrador  2021A000210  Total - Age   \n",
      "\n",
      "           Gender (3) Statistics (3)   Ethni.c or cultural origin (530)  \\\n",
      "71550  Total - Gender          Count  Total - Ethnic or cultural origin   \n",
      "71551  Total - Gender          Count             North American origins   \n",
      "71552  Total - Gender          Count             North American, n.o.s.   \n",
      "71553  Total - Gender          Count  North American Indigenous origins   \n",
      "71554  Total - Gender          Count  North American Indigenous, n.o.s.   \n",
      "\n",
      "      Coordinate  \\\n",
      "71550  2.1.1.1.1   \n",
      "71551  2.1.1.1.2   \n",
      "71552  2.1.1.1.3   \n",
      "71553  2.1.1.1.4   \n",
      "71554  2.1.1.1.5   \n",
      "\n",
      "       Ethnic or cultural origin: Single or multiple response indicator (3):Total - Single and multiple ethnic or cultural origin responses[1]  \\\n",
      "71550                                             502100                                                                                         \n",
      "71551                                             212215                                                                                         \n",
      "71552                                                495                                                                                         \n",
      "71553                                              58790                                                                                         \n",
      "71554                                               3580                                                                                         \n",
      "\n",
      "      Symbol  \\\n",
      "71550   None   \n",
      "71551   None   \n",
      "71552   None   \n",
      "71553   None   \n",
      "71554   None   \n",
      "\n",
      "       Ethnic or cultural origin: Single or multiple response indicator (3):Single ethnic or cultural origin responses[2]  \\\n",
      "71550                                             366550                                                                    \n",
      "71551                                             160235                                                                    \n",
      "71552                                                455                                                                    \n",
      "71553                                              30650                                                                    \n",
      "71554                                               1910                                                                    \n",
      "\n",
      "      Symbol.1  \\\n",
      "71550     None   \n",
      "71551     None   \n",
      "71552     None   \n",
      "71553     None   \n",
      "71554     None   \n",
      "\n",
      "       Ethnic or cultural origin: Single or multiple response indicator (3):Multiple ethnic or cultural origin responses[3]  \\\n",
      "71550                                             135550                                                                      \n",
      "71551                                              51985                                                                      \n",
      "71552                                                 45                                                                      \n",
      "71553                                              28135                                                                      \n",
      "71554                                               1670                                                                      \n",
      "\n",
      "      Symbol.2  \n",
      "71550     None  \n",
      "71551     None  \n",
      "71552     None  \n",
      "71553     None  \n",
      "71554     None  \n"
     ]
    }
   ],
   "source": [
    "print(filtered_data.head())\n"
   ]
  },
  {
   "cell_type": "code",
   "execution_count": 12,
   "id": "ff3bc726-7fe7-4640-acad-0a6a95aa3608",
   "metadata": {},
   "outputs": [
    {
     "name": "stdout",
     "output_type": "stream",
     "text": [
      "['2.1.1.1.1' '2.1.1.1.2' '2.1.1.1.3' ... '304.15.3.3.528' '304.15.3.3.529'\n",
      " '304.15.3.3.530']\n"
     ]
    }
   ],
   "source": [
    "print(filtered_data[\"Coordinate\"].unique())\n"
   ]
  },
  {
   "cell_type": "code",
   "execution_count": 13,
   "id": "e17d28c1-a6a1-4f2e-9473-d314d7152309",
   "metadata": {},
   "outputs": [],
   "source": [
    "columns_to_drop = [\n",
    "    'Symbol',\n",
    "    'Symbol.1',\n",
    "    'Symbol.2',\n",
    "    'Coordinate',\n",
    "    'DGUID',\n",
    "    'Ethnic or cultural origin: Single or multiple response indicator (3):Single ethnic or cultural origin responses[2]',\n",
    "    'Ethnic or cultural origin: Single or multiple response indicator (3):Multiple ethnic or cultural origin responses[3]'\n",
    "]\n",
    "\n",
    "filtered_data = filtered_data.drop(columns=columns_to_drop)\n"
   ]
  },
  {
   "cell_type": "code",
   "execution_count": 14,
   "id": "114e04da-69cb-4958-afc9-e8b5a3c51e59",
   "metadata": {},
   "outputs": [
    {
     "name": "stdout",
     "output_type": "stream",
     "text": [
      "(1001700, 7)\n"
     ]
    }
   ],
   "source": [
    "# Check the size of the dataset\n",
    "print(filtered_data.shape)\n"
   ]
  },
  {
   "cell_type": "code",
   "execution_count": 15,
   "id": "80316710-5581-4ea8-9a72-75497e4f60a0",
   "metadata": {},
   "outputs": [
    {
     "name": "stdout",
     "output_type": "stream",
     "text": [
      "       REF_DATE                        GEO    Age (15C)      Gender (3)  \\\n",
      "71550      2021  Newfoundland and Labrador  Total - Age  Total - Gender   \n",
      "71551      2021  Newfoundland and Labrador  Total - Age  Total - Gender   \n",
      "71552      2021  Newfoundland and Labrador  Total - Age  Total - Gender   \n",
      "71553      2021  Newfoundland and Labrador  Total - Age  Total - Gender   \n",
      "71554      2021  Newfoundland and Labrador  Total - Age  Total - Gender   \n",
      "\n",
      "      Statistics (3)   Ethni.c or cultural origin (530)  \\\n",
      "71550          Count  Total - Ethnic or cultural origin   \n",
      "71551          Count             North American origins   \n",
      "71552          Count             North American, n.o.s.   \n",
      "71553          Count  North American Indigenous origins   \n",
      "71554          Count  North American Indigenous, n.o.s.   \n",
      "\n",
      "       Ethnic or cultural origin: Single or multiple response indicator (3):Total - Single and multiple ethnic or cultural origin responses[1]  \n",
      "71550                                             502100                                                                                        \n",
      "71551                                             212215                                                                                        \n",
      "71552                                                495                                                                                        \n",
      "71553                                              58790                                                                                        \n",
      "71554                                               3580                                                                                        \n"
     ]
    }
   ],
   "source": [
    "print(filtered_data.head())\n"
   ]
  },
  {
   "cell_type": "code",
   "execution_count": 16,
   "id": "4eb98e99-f268-4d76-a628-ba83cd8c1faa",
   "metadata": {},
   "outputs": [
    {
     "name": "stdout",
     "output_type": "stream",
     "text": [
      "REF_DATE                                                                                                                                   0\n",
      "GEO                                                                                                                                        0\n",
      "Age (15C)                                                                                                                                  0\n",
      "Gender (3)                                                                                                                                 0\n",
      "Statistics (3)                                                                                                                             0\n",
      "Ethni.c or cultural origin (530)                                                                                                           0\n",
      "Ethnic or cultural origin: Single or multiple response indicator (3):Total - Single and multiple ethnic or cultural origin responses[1]    0\n",
      "dtype: int64\n"
     ]
    }
   ],
   "source": [
    "# Count missing values in each column\n",
    "print(filtered_data.isnull().sum())\n",
    "#no missing values :)"
   ]
  },
  {
   "cell_type": "code",
   "execution_count": 17,
   "id": "8f3682cc-2da4-42dc-8fdf-963e925c308d",
   "metadata": {},
   "outputs": [
    {
     "name": "stdout",
     "output_type": "stream",
     "text": [
      "REF_DATE                                                                                                                                    int64\n",
      "GEO                                                                                                                                        object\n",
      "Age (15C)                                                                                                                                  object\n",
      "Gender (3)                                                                                                                                 object\n",
      "Statistics (3)                                                                                                                             object\n",
      "Ethni.c or cultural origin (530)                                                                                                           object\n",
      "Ethnic or cultural origin: Single or multiple response indicator (3):Total - Single and multiple ethnic or cultural origin responses[1]     int64\n",
      "dtype: object\n"
     ]
    }
   ],
   "source": [
    "print(filtered_data.dtypes)\n"
   ]
  },
  {
   "cell_type": "code",
   "execution_count": 18,
   "id": "a2f0ae23-6626-47df-8fe2-2df9b221b03a",
   "metadata": {},
   "outputs": [
    {
     "name": "stdout",
     "output_type": "stream",
     "text": [
      "['Total - Ethnic or cultural origin' 'North American origins'\n",
      " 'North American, n.o.s.' 'North American Indigenous origins'\n",
      " 'North American Indigenous, n.o.s.'\n",
      " 'First Nations (North American Indian) origins'\n",
      " 'First Nations (North American Indian), n.o.s.' 'Abenaki'\n",
      " 'Anishinaabe origins' 'Anishinaabe, n.o.s.' 'Algonquin' 'Odawa' 'Ojibway'\n",
      " 'Oji-Cree' 'Potawatomi' 'Saulteaux' 'Anishinaabe origins, n.i.e.'\n",
      " 'Apache' 'Atikamekw' 'Blackfoot origins' 'Blackfoot, n.o.s.'\n",
      " 'Blood (Kainai)' 'Piikani' 'Siksika' 'Blackfoot origins, n.i.e.'\n",
      " 'Cherokee' 'Cheyenne' 'Choctaw' 'Cree origins' 'Cree, n.o.s.'\n",
      " 'Moose Cree' 'Plains Cree' 'Swampy Cree' 'Woodland Cree'\n",
      " 'Cree origins, n.i.e.' 'Delaware (Lenape)' 'Dene origins' 'Dene, n.o.s.'\n",
      " 'Beaver (Dunne-za)' 'Carrier (Dakelh)' \"Chilcotin (Tsilhqot'in)\"\n",
      " 'Chipewyan (Denesuline)' 'Dene Tha’ (Slavey)' \"Gwich'in\" 'Kaska'\n",
      " 'Sahtú (North Slavey)' 'Tahltan' 'Tlicho (Dogrib)' 'Tlingit'\n",
      " \"Tse'khene (Sekani)\" \"Tsuut'ina (Sarcee)\" 'Tutchone' \"Wet'suwet'en\"\n",
      " 'Dene origins, n.i.e.' 'Gitxsan' 'Haida' 'Haisla' 'Heiltsuk'\n",
      " 'Huron (Wendat)' 'Innu origins' 'Innu/Montagnais, n.o.s.' 'Naskapi'\n",
      " 'Iroquoian (Haudenosaunee) origins' 'Iroquois (Haudenosaunee), n.o.s.'\n",
      " 'Cayuga' 'Mohawk' 'Oneida' 'Tuscarora'\n",
      " 'Iroquoian (Haudenosaunee) origins, n.i.e.' 'Ktunaxa (Kutenai)'\n",
      " \"Kwakwaka'wakw origins\" \"Kwakwaka'wakw, n.o.s.\" 'Kwakiutl'\n",
      " 'Laich-kwil-tach' \"'Namgis\" 'Quatsino' \"Kwakwaka'wakw origins, n.i.e.\"\n",
      " 'Maliseet' \"Mi'kmaq origins\" \"Mi'kmaq, n.o.s.\" \"Qalipu Mi'kmaq\" 'Navajo'\n",
      " \"Nisga'a\" 'Nuu-chah-nulth origins' 'Nuu-chah-nulth, n.o.s.' 'Ahousaht'\n",
      " 'Ditidaht' 'Tla-o-qui-aht' 'Tseshaht' 'Nuu-chah-nulth origins, n.i.e.'\n",
      " 'Nuxalk' 'Passamaquoddy' 'Salish origins' 'Salish, n.o.s.'\n",
      " 'Coast Salish origins' 'Coast Salish, n.o.s.' \"Chemainus (Stz'uminus)\"\n",
      " 'Cowichan' 'Homalco' 'Musqueam' 'Penelakut' 'Shíshálh (Sechelt)'\n",
      " 'Snuneymuxw' 'Squamish' 'Stó:lo' 'WSÁNEC (Saanich)'\n",
      " 'Coast Salish origins, n.i.e.' 'Interior Salish origins'\n",
      " 'Interior Salish, n.o.s.' \"Nlaka'pamux (Thompson)\" 'Okanagan (Syilx)'\n",
      " 'Secwepemc (Shuswap)' \"St'at'imc (Lillooet)\"\n",
      " 'Interior Salish origins, n.i.e.' 'Siouan origins' 'Sioux, n.o.s.'\n",
      " 'Assiniboine' 'Dakota' 'Lakota' 'Stoney (Nakoda)' 'Tsimshian' 'Wuikinuxv'\n",
      " 'First Nations (North American Indian) origins, n.i.e.' 'Inuit origins'\n",
      " 'Inuit, n.o.s.' 'Inuvialuit' 'Inuit origins, n.i.e.' 'Métis'\n",
      " 'Other North American origins' 'Acadian' 'African American'\n",
      " 'African Canadian' 'African Nova Scotian' 'Albertan' 'American'\n",
      " 'British Columbian' 'Canadian' 'Cape Bretoner' 'Franco Ontarian'\n",
      " 'French Canadian' 'Gaspesian' 'Manitoban' 'New Brunswicker'\n",
      " 'Newfoundlander' 'Nova Scotian' 'Ontarian' 'Pennsylvania Dutch'\n",
      " 'Prince Edward Islander' 'Québécois' 'Saskatchewanian'\n",
      " 'United Empire Loyalist' 'Other North American origins, n.i.e.'\n",
      " 'European origins' 'European, n.o.s.' 'British Isles origins'\n",
      " 'British Isles, n.o.s.' 'Channel Islander' 'Cornish' 'English' 'Irish'\n",
      " 'Manx' 'Northern Irish' 'Orcadian' 'Scottish' 'Ulster Scot' 'Welsh'\n",
      " 'British Isles origins, n.i.e.' 'French origins' 'French, n.o.s.'\n",
      " 'Alsatian' 'Breton' 'Corsican' 'Norman' 'French origins, n.i.e.'\n",
      " 'Other Western European origins' 'Western European, n.o.s.' 'Austrian'\n",
      " 'Bavarian' 'Belgian' 'Dutch' 'Flemish' 'Frisian' 'German' 'Luxembourger'\n",
      " 'Swiss' 'Walloon' 'Other Western European origins, n.i.e.'\n",
      " 'Other Northern European origins' 'Northern European, n.o.s.' 'Danish'\n",
      " 'Finnish' 'Icelandic' 'Norwegian' 'Sami' 'Swedish'\n",
      " 'Other Northern European origins, n.i.e.' 'Southern European origins'\n",
      " 'Southern European, n.o.s.' 'Azorean' 'Basque' 'Catalan' 'Galician'\n",
      " 'Greek' 'Italian' 'Maltese' 'Portuguese' 'Sicilian' 'Spanish'\n",
      " 'Southern European origins, n.i.e.' 'Southeast European origins'\n",
      " 'Southeast European, n.o.s.' 'Albanian' 'Bosniak' 'Bosnian' 'Bulgarian'\n",
      " 'Croatian' 'Kosovar' 'Macedonian' 'Moldovan' 'Montenegrin' 'Romanian'\n",
      " 'Serbian' 'Slovenian' 'Transylvanian' 'Yugoslavian, n.o.s.'\n",
      " 'Southeast European origins, n.i.e.' 'Eastern European origins'\n",
      " 'Eastern European, n.o.s.' 'Bohemian' 'Byelorussian' 'Czech'\n",
      " 'Czechoslovakian, n.o.s.' 'Estonian' 'Hungarian' 'Kashubian' 'Latvian'\n",
      " 'Lithuanian' 'Polish' 'Russian' 'Ruthenian' 'Slovak' 'Ukrainian'\n",
      " 'Eastern European origins, n.i.e.' 'Other European origins'\n",
      " 'Celtic, n.o.s.' 'Roma' 'Slavic, n.o.s.' 'Other European origins, n.i.e.'\n",
      " 'Caribbean origins' 'Caribbean, n.o.s.' 'African Caribbean' 'Antiguan'\n",
      " 'Aruban' 'Bahamian' 'Barbadian' 'Bermudian' 'Carib' 'Cuban'\n",
      " 'Dominica Islander' 'Dominican' 'Grenadian' 'Guadeloupean' 'Haitian'\n",
      " 'Indo-Caribbean' 'Jamaican' 'Kittitian/Nevisian' 'Maroon' 'Martinican'\n",
      " 'Montserratian' 'Puerto Rican' 'St. Lucian' 'Trinidadian/Tobagonian'\n",
      " 'Vincentian' 'West Indian, n.o.s.' 'Caribbean origins, n.i.e.'\n",
      " 'Latin, Central and South American origins'\n",
      " 'Latin, Central or South American, n.o.s.' 'Arawak' 'Argentinian'\n",
      " 'Belizean' 'Bolivian' 'Brazilian' 'Chilean' 'Colombian' 'Costa Rican'\n",
      " 'Ecuadorian' 'Guatemalan' 'Guyanese' 'Hispanic, n.o.s.' 'Honduran'\n",
      " 'Indigenous origins from Latin, Central and South America, n.i.e.'\n",
      " 'Indo-Guyanese' 'Mapuche' 'Mayan' 'Mexican' 'Nicaraguan' 'Panamanian'\n",
      " 'Paraguayan' 'Peruvian' 'Pipil' 'Quechua' 'Salvadorean' 'Surinamese'\n",
      " 'Uruguayan' 'Venezuelan'\n",
      " 'Latin, Central and South American origins, n.i.e.' 'African origins'\n",
      " 'African, n.o.s.' 'Central and West African origins'\n",
      " 'Central or West African, n.o.s.' 'Akan, n.o.s.' 'Angolan' 'Ashanti'\n",
      " 'Bambara' 'Bamileke' 'Baoulé' 'Beninese' 'Burkinabe' 'Cameroonian'\n",
      " 'Cape Verdean' 'Central African' 'Chadian' 'Congolese' 'Edo' 'Esan' 'Ewe'\n",
      " 'Fante' 'Fulani' 'Ga-Adangbe' 'Gabonese' 'Gambian' 'Ghanaian' 'Guinean'\n",
      " 'Hausa' 'Igbo' 'Ivorian' 'Liberian' 'Luba' 'Malian' 'Malinké'\n",
      " 'Mauritanian' 'Mossi' 'Nigerian' 'Nigerien' 'Senegalese' 'Serer'\n",
      " 'Sierra Leonean' 'Soninke' 'Togolese' 'Wolof' 'Yoruba'\n",
      " 'Central and West African origins, n.i.e.' 'North African origins'\n",
      " 'North African, n.o.s.' 'Algerian' 'Berber' 'Dinka' 'Egyptian' 'Kabyle'\n",
      " 'Libyan' 'Moroccan' 'Sudanese' 'Tunisian' 'North African origins, n.i.e.'\n",
      " 'Southern and East African origins' 'Southern or East African, n.o.s.'\n",
      " 'Afar' 'Afrikaner' 'Amhara' 'Bantu, n.o.s.' 'Burundian' 'Djiboutian'\n",
      " 'Eritrean' 'Ethiopian' 'Harari' 'Hutu' 'Kenyan' 'Kikuyu' 'Luo' 'Malagasy'\n",
      " 'Malawian' 'Mauritian' 'Mozambican' 'Namibian' 'Ndebele' 'Nubian' 'Oromo'\n",
      " 'Réunionnais' 'Rwandan' 'Seychellois' 'Shona' 'Somali' 'South African'\n",
      " 'South Sudanese' 'Swahili' 'Tanzanian' 'Tigrinya' 'Tswana (Batswana)'\n",
      " 'Tutsi' 'Ugandan' 'Zambian' 'Zimbabwean' 'Zulu'\n",
      " 'Southern and East African origins, n.i.e.' 'African origins, n.i.e.'\n",
      " 'Asian origins' 'Asian, n.o.s.'\n",
      " 'West and Central Asian and Middle Eastern origins'\n",
      " 'West or Central Asian or Middle Eastern, n.o.s.' 'Afghan' 'Armenian'\n",
      " 'Assyrian' 'Azerbaijani' 'Baloch' 'Circassian' 'Cypriot' 'Georgian'\n",
      " 'Greek Cypriot' 'Hazara' 'Iranian' 'Iraqi' 'Israeli' 'Jordanian' 'Kazakh'\n",
      " 'Kurdish' 'Kuwaiti' 'Kyrgyz' 'Lebanese' 'Omani' 'Palestinian' 'Pashtun'\n",
      " 'Persian' 'Saudi Arabian' 'Syrian' 'Tajik' 'Tatar' 'Turkish' 'Turkmen'\n",
      " 'Uyghur' 'Uzbek' 'Yemeni'\n",
      " 'West and Central Asian and Middle Eastern origins, n.i.e.'\n",
      " 'South Asian origins' 'South Asian, n.o.s.' 'Anglo-Indian' 'Bangladeshi'\n",
      " 'Bengali' 'Bhutanese' 'Goan' 'Gujarati' 'Indian (India)' 'Jatt'\n",
      " 'Kashmiri' 'Maharashtrian' 'Malayali' 'Nepali' 'Pakistani' 'Punjabi'\n",
      " 'Sindhi' 'Sinhalese' 'Sri Lankan' 'Tamil' 'Telugu'\n",
      " 'South Asian origins, n.i.e.' 'East and Southeast Asian origins'\n",
      " 'East or Southeast Asian, n.o.s.' 'Bruneian' 'Burmese'\n",
      " 'Cambodian (Khmer)' 'Chin' 'Chinese' 'Filipino' 'Hmong' 'Hong Konger'\n",
      " 'Igorot' 'Ilocano' 'Indonesian' 'Japanese' 'Javanese' 'Karen' 'Korean'\n",
      " 'Laotian' 'Malay' 'Malaysian' 'Mongolian' 'Singaporean' 'Taiwanese'\n",
      " 'Thai' 'Tibetan' 'Vietnamese' 'East and Southeast Asian origins, n.i.e.'\n",
      " 'Asian origins, n.i.e.' 'Oceanian origins' 'Oceanian, n.o.s.'\n",
      " 'Pacific Islands origins' 'Pacific Islander, n.o.s.' 'Fijian' 'Hawaiian'\n",
      " 'Indo-Fijian' 'Polynesian, n.o.s.' 'Samoan' 'Tongan'\n",
      " 'Pacific Islands origins, n.i.e.' 'Other Oceanian origins' 'Australian'\n",
      " 'Maori' 'New Zealander' 'Other Oceanian origins, n.i.e.'\n",
      " 'Other ethnic and cultural origins' 'Amish' 'Arab, n.o.s.'\n",
      " 'Black, n.o.s.' 'Buddhist' 'Caucasian (White), n.o.s.' 'Chaldean'\n",
      " 'Christian, n.i.e.' 'Coptic' 'Creole, n.o.s.' 'Doukhobor'\n",
      " 'Eurasian, n.o.s.' 'Hindu' 'Huguenot' 'Hutterite' 'Jewish' 'Mennonite'\n",
      " 'Muslim' 'Sikh' 'Yazidi' 'Zoroastrian'\n",
      " 'Other ethnic and cultural origins, n.i.e.']\n"
     ]
    }
   ],
   "source": [
    "print(filtered_data[\"Ethni.c or cultural origin (530)\"].unique())\n"
   ]
  },
  {
   "cell_type": "code",
   "execution_count": 19,
   "id": "71858868-f196-4844-8e8f-bd99b393e6a9",
   "metadata": {},
   "outputs": [
    {
     "name": "stdout",
     "output_type": "stream",
     "text": [
      "  country  coffeeConsumptionByCountry_totCons_202021  \\\n",
      "0   India                                       1485   \n",
      "1   India                                       1485   \n",
      "2   India                                       1485   \n",
      "3   India                                       1485   \n",
      "4   India                                       1485   \n",
      "\n",
      "   coffeeConsumptionByCountry_totCons_201920  \\\n",
      "0                                       1450   \n",
      "1                                       1450   \n",
      "2                                       1450   \n",
      "3                                       1450   \n",
      "4                                       1450   \n",
      "\n",
      "   coffeeConsumptionByCountry_totCons_201819  \\\n",
      "0                                       1475   \n",
      "1                                       1475   \n",
      "2                                       1475   \n",
      "3                                       1475   \n",
      "4                                       1475   \n",
      "\n",
      "   coffeeConsumptionByCountry_totCons_201718  \\\n",
      "0                                       1470   \n",
      "1                                       1470   \n",
      "2                                       1470   \n",
      "3                                       1470   \n",
      "4                                       1470   \n",
      "\n",
      "   coffeeConsumption_CAGR201718202021 Ethnic or Cultural Origin  REF_DATE  \\\n",
      "0                                 0.3            Indian (India)      2021   \n",
      "1                                 0.3            Indian (India)      2021   \n",
      "2                                 0.3            Indian (India)      2021   \n",
      "3                                 0.3            Indian (India)      2021   \n",
      "4                                 0.3            Indian (India)      2021   \n",
      "\n",
      "                         GEO    Age (15C)      Gender (3)  \\\n",
      "0  Newfoundland and Labrador  Total - Age  Total - Gender   \n",
      "1  Newfoundland and Labrador  Total - Age  Total - Gender   \n",
      "2  Newfoundland and Labrador  Total - Age  Total - Gender   \n",
      "3  Newfoundland and Labrador  Total - Age            Men+   \n",
      "4  Newfoundland and Labrador  Total - Age            Men+   \n",
      "\n",
      "                               Statistics (3)  \\\n",
      "0                                       Count   \n",
      "1  95% confidence interval lower bound, Count   \n",
      "2  95% confidence interval upper bound, Count   \n",
      "3                                       Count   \n",
      "4  95% confidence interval lower bound, Count   \n",
      "\n",
      "  Ethni.c or cultural origin (530)  \\\n",
      "0                   Indian (India)   \n",
      "1                   Indian (India)   \n",
      "2                   Indian (India)   \n",
      "3                   Indian (India)   \n",
      "4                   Indian (India)   \n",
      "\n",
      "   Ethnic or cultural origin: Single or multiple response indicator (3):Total - Single and multiple ethnic or cultural origin responses[1]  \n",
      "0                                               2765                                                                                        \n",
      "1                                               2458                                                                                        \n",
      "2                                               3111                                                                                        \n",
      "3                                               1505                                                                                        \n",
      "4                                               1315                                                                                        \n"
     ]
    }
   ],
   "source": [
    "import pandas as pd\n",
    "\n",
    "# Step 1: Load the coffee consumption dataset\n",
    "coffee_data_path = 'coffee-consumption-by-country-2024.csv'\n",
    "coffee_data = pd.read_csv(coffee_data_path)\n",
    "\n",
    "# Step 2: Load the Ethnic_Cultural_Origins_Country_Mapping dataset\n",
    "ethnic_mapping_path = 'Ethnic_Cultural_Origins_Country_Mapping.csv'\n",
    "ethnic_mapping = pd.read_csv(ethnic_mapping_path)\n",
    "\n",
    "\n",
    "# Step 1: Join coffee_data with ethnic_mapping\n",
    "ethnic_mapping = ethnic_mapping.rename(columns={\"Likely Country/Region\": \"country\"})\n",
    "coffee_ethnic_combined = pd.merge(coffee_data, ethnic_mapping, on=\"country\", how=\"inner\")\n",
    "\n",
    "# Step 2: Join the resulting dataset with filtered_data\n",
    "final_combined_data = pd.merge(\n",
    "    coffee_ethnic_combined,\n",
    "    filtered_data,\n",
    "    left_on=\"Ethnic or Cultural Origin\",  # From ethnic_mapping\n",
    "    right_on=\"Ethni.c or cultural origin (530)\",  # From filtered_data\n",
    "    how=\"inner\"\n",
    ")\n",
    "\n",
    "# Display the resulting combined dataset\n",
    "print(final_combined_data.head())\n",
    "\n",
    "# Save the final dataset to a CSV for further use\n",
    "final_combined_data.to_csv('joined_immigrationdata.csv', index=False)\n",
    "\n"
   ]
  },
  {
   "cell_type": "markdown",
   "id": "e796c40f",
   "metadata": {},
   "source": [
    "*VISUALIZATIONS*"
   ]
  },
  {
   "cell_type": "code",
   "execution_count": null,
   "id": "dfb4e3c8",
   "metadata": {},
   "outputs": [],
   "source": [
    "#pip install matplotlib seaborn plotly\n"
   ]
  },
  {
   "cell_type": "code",
   "execution_count": 20,
   "id": "511ff7ed",
   "metadata": {},
   "outputs": [
    {
     "name": "stderr",
     "output_type": "stream",
     "text": [
      "/var/folders/rz/m9y4lv2543b4h866w76_dhv40000gn/T/ipykernel_38843/55035502.py:9: FutureWarning: \n",
      "\n",
      "Passing `palette` without assigning `hue` is deprecated and will be removed in v0.14.0. Assign the `x` variable to `hue` and set `legend=False` for the same effect.\n",
      "\n",
      "  sns.barplot(data=coffee_by_ethnic_origin, x='Ethnic or Cultural Origin', y='coffeeConsumptionByCountry_totCons_202021', palette='viridis')\n"
     ]
    },
    {
     "data": {
      "image/png": "[encoded data removed]",
      "text/plain": [
       "<Figure size 1200x600 with 1 Axes>"
      ]
     },
     "metadata": {},
     "output_type": "display_data"
    }
   ],
   "source": [
    "import matplotlib.pyplot as plt\n",
    "import seaborn as sns\n",
    "\n",
    "# Summarize coffee consumption by ethnic origin\n",
    "coffee_by_ethnic_origin = final_combined_data.groupby('Ethnic or Cultural Origin')['coffeeConsumptionByCountry_totCons_202021'].sum().reset_index()\n",
    "\n",
    "# Plot\n",
    "plt.figure(figsize=(12, 6))\n",
    "sns.barplot(data=coffee_by_ethnic_origin, x='Ethnic or Cultural Origin', y='coffeeConsumptionByCountry_totCons_202021', palette='viridis')\n",
    "plt.xticks(rotation=45, ha='right')\n",
    "plt.title('Total Coffee Consumption by Ethnic Origin (2020-21)', fontsize=16)\n",
    "plt.xlabel('Ethnic or Cultural Origin')\n",
    "plt.ylabel('Total Coffee Consumption')\n",
    "plt.tight_layout()\n",
    "plt.show()\n"
   ]
  },
  {
   "cell_type": "code",
   "execution_count": 21,
   "id": "5ae5d964",
   "metadata": {},
   "outputs": [
    {
     "data": {
      "application/vnd.plotly.v1+json": {
       "config": {
        "plotlyServerURL": "https://plot.ly"
       },
       "data": [
        {
         "hovertemplate": "<b>%{hovertext}</b><br><br>country=India<br>Total Consumption (2020-21)=%{marker.size}<br>CAGR (2017-2021)=%{y}<extra></extra>",
         "hovertext": [
          "India"
         ],
         "legendgroup": "India",
         "marker": {
          "color": "#636efa",
          "size": [
           1485
          ],
          "sizemode": "area",
          "sizeref": 67.455,
          "symbol": "circle"
         },
         "mode": "markers",
         "name": "India",
         "orientation": "v",
         "showlegend": true,
         "type": "scatter",
         "x": [
          1485
         ],
         "xaxis": "x",
         "y": [
          0.3
         ],
         "yaxis": "y"
        },
        {
         "hovertemplate": "<b>%{hovertext}</b><br><br>country=United States<br>Total Consumption (2020-21)=%{marker.size}<br>CAGR (2017-2021)=%{y}<extra></extra>",
         "hovertext": [
          "United States"
         ],
         "legendgroup": "United States",
         "marker": {
          "color": "#EF553B",
          "size": [
           26982
          ],
          "sizemode": "area",
          "sizeref": 67.455,
          "symbol": "circle"
         },
         "mode": "markers",
         "name": "United States",
         "orientation": "v",
         "showlegend": true,
         "type": "scatter",
         "x": [
          26982
         ],
         "xaxis": "x",
         "y": [
          1.1
         ],
         "yaxis": "y"
        },
        {
         "hovertemplate": "<b>%{hovertext}</b><br><br>country=Indonesia<br>Total Consumption (2020-21)=%{marker.size}<br>CAGR (2017-2021)=%{y}<extra></extra>",
         "hovertext": [
          "Indonesia"
         ],
         "legendgroup": "Indonesia",
         "marker": {
          "color": "#00cc96",
          "size": [
           5000
          ],
          "sizemode": "area",
          "sizeref": 67.455,
          "symbol": "circle"
         },
         "mode": "markers",
         "name": "Indonesia",
         "orientation": "v",
         "showlegend": true,
         "type": "scatter",
         "x": [
          5000
         ],
         "xaxis": "x",
         "y": [
          1.7
         ],
         "yaxis": "y"
        },
        {
         "hovertemplate": "<b>%{hovertext}</b><br><br>country=Brazil<br>Total Consumption (2020-21)=%{marker.size}<br>CAGR (2017-2021)=%{y}<extra></extra>",
         "hovertext": [
          "Brazil"
         ],
         "legendgroup": "Brazil",
         "marker": {
          "color": "#ab63fa",
          "size": [
           22400
          ],
          "sizemode": "area",
          "sizeref": 67.455,
          "symbol": "circle"
         },
         "mode": "markers",
         "name": "Brazil",
         "orientation": "v",
         "showlegend": true,
         "type": "scatter",
         "x": [
          22400
         ],
         "xaxis": "x",
         "y": [
          0.6
         ],
         "yaxis": "y"
        },
        {
         "hovertemplate": "<b>%{hovertext}</b><br><br>country=Russia<br>Total Consumption (2020-21)=%{marker.size}<br>CAGR (2017-2021)=%{y}<extra></extra>",
         "hovertext": [
          "Russia"
         ],
         "legendgroup": "Russia",
         "marker": {
          "color": "#FFA15A",
          "size": [
           4681
          ],
          "sizemode": "area",
          "sizeref": 67.455,
          "symbol": "circle"
         },
         "mode": "markers",
         "name": "Russia",
         "orientation": "v",
         "showlegend": true,
         "type": "scatter",
         "x": [
          4681
         ],
         "xaxis": "x",
         "y": [
          2.7
         ],
         "yaxis": "y"
        },
        {
         "hovertemplate": "<b>%{hovertext}</b><br><br>country=Ethiopia<br>Total Consumption (2020-21)=%{marker.size}<br>CAGR (2017-2021)=%{y}<extra></extra>",
         "hovertext": [
          "Ethiopia"
         ],
         "legendgroup": "Ethiopia",
         "marker": {
          "color": "#19d3f3",
          "size": [
           3798
          ],
          "sizemode": "area",
          "sizeref": 67.455,
          "symbol": "circle"
         },
         "mode": "markers",
         "name": "Ethiopia",
         "orientation": "v",
         "showlegend": true,
         "type": "scatter",
         "x": [
          3798
         ],
         "xaxis": "x",
         "y": [
          1.4
         ],
         "yaxis": "y"
        },
        {
         "hovertemplate": "<b>%{hovertext}</b><br><br>country=Mexico<br>Total Consumption (2020-21)=%{marker.size}<br>CAGR (2017-2021)=%{y}<extra></extra>",
         "hovertext": [
          "Mexico"
         ],
         "legendgroup": "Mexico",
         "marker": {
          "color": "#FF6692",
          "size": [
           2420
          ],
          "sizemode": "area",
          "sizeref": 67.455,
          "symbol": "circle"
         },
         "mode": "markers",
         "name": "Mexico",
         "orientation": "v",
         "showlegend": true,
         "type": "scatter",
         "x": [
          2420
         ],
         "xaxis": "x",
         "y": [
          0.3
         ],
         "yaxis": "y"
        },
        {
         "hovertemplate": "<b>%{hovertext}</b><br><br>country=Japan<br>Total Consumption (2020-21)=%{marker.size}<br>CAGR (2017-2021)=%{y}<extra></extra>",
         "hovertext": [
          "Japan"
         ],
         "legendgroup": "Japan",
         "marker": {
          "color": "#B6E880",
          "size": [
           7386
          ],
          "sizemode": "area",
          "sizeref": 67.455,
          "symbol": "circle"
         },
         "mode": "markers",
         "name": "Japan",
         "orientation": "v",
         "showlegend": true,
         "type": "scatter",
         "x": [
          7386
         ],
         "xaxis": "x",
         "y": [
          -1.6
         ],
         "yaxis": "y"
        },
        {
         "hovertemplate": "<b>%{hovertext}</b><br><br>country=Egypt<br>Total Consumption (2020-21)=%{marker.size}<br>CAGR (2017-2021)=%{y}<extra></extra>",
         "hovertext": [
          "Egypt"
         ],
         "legendgroup": "Egypt",
         "marker": {
          "color": "#FF97FF",
          "size": [
           1279
          ],
          "sizemode": "area",
          "sizeref": 67.455,
          "symbol": "circle"
         },
         "mode": "markers",
         "name": "Egypt",
         "orientation": "v",
         "showlegend": true,
         "type": "scatter",
         "x": [
          1279
         ],
         "xaxis": "x",
         "y": [
          27.7
         ],
         "yaxis": "y"
        },
        {
         "hovertemplate": "<b>%{hovertext}</b><br><br>country=Philippines<br>Total Consumption (2020-21)=%{marker.size}<br>CAGR (2017-2021)=%{y}<extra></extra>",
         "hovertext": [
          "Philippines"
         ],
         "legendgroup": "Philippines",
         "marker": {
          "color": "#FECB52",
          "size": [
           3312
          ],
          "sizemode": "area",
          "sizeref": 67.455,
          "symbol": "circle"
         },
         "mode": "markers",
         "name": "Philippines",
         "orientation": "v",
         "showlegend": true,
         "type": "scatter",
         "x": [
          3312
         ],
         "xaxis": "x",
         "y": [
          1.4
         ],
         "yaxis": "y"
        },
        {
         "hovertemplate": "<b>%{hovertext}</b><br><br>country=Vietnam<br>Total Consumption (2020-21)=%{marker.size}<br>CAGR (2017-2021)=%{y}<extra></extra>",
         "hovertext": [
          "Vietnam"
         ],
         "legendgroup": "Vietnam",
         "marker": {
          "color": "#636efa",
          "size": [
           2700
          ],
          "sizemode": "area",
          "sizeref": 67.455,
          "symbol": "circle"
         },
         "mode": "markers",
         "name": "Vietnam",
         "orientation": "v",
         "showlegend": true,
         "type": "scatter",
         "x": [
          2700
         ],
         "xaxis": "x",
         "y": [
          2.6
         ],
         "yaxis": "y"
        },
        {
         "hovertemplate": "<b>%{hovertext}</b><br><br>country=Turkey<br>Total Consumption (2020-21)=%{marker.size}<br>CAGR (2017-2021)=%{y}<extra></extra>",
         "hovertext": [
          "Turkey"
         ],
         "legendgroup": "Turkey",
         "marker": {
          "color": "#EF553B",
          "size": [
           1754
          ],
          "sizemode": "area",
          "sizeref": 67.455,
          "symbol": "circle"
         },
         "mode": "markers",
         "name": "Turkey",
         "orientation": "v",
         "showlegend": true,
         "type": "scatter",
         "x": [
          1754
         ],
         "xaxis": "x",
         "y": [
          8.4
         ],
         "yaxis": "y"
        },
        {
         "hovertemplate": "<b>%{hovertext}</b><br><br>country=Thailand<br>Total Consumption (2020-21)=%{marker.size}<br>CAGR (2017-2021)=%{y}<extra></extra>",
         "hovertext": [
          "Thailand"
         ],
         "legendgroup": "Thailand",
         "marker": {
          "color": "#00cc96",
          "size": [
           1415
          ],
          "sizemode": "area",
          "sizeref": 67.455,
          "symbol": "circle"
         },
         "mode": "markers",
         "name": "Thailand",
         "orientation": "v",
         "showlegend": true,
         "type": "scatter",
         "x": [
          1415
         ],
         "xaxis": "x",
         "y": [
          1
         ],
         "yaxis": "y"
        },
        {
         "hovertemplate": "<b>%{hovertext}</b><br><br>country=South Africa<br>Total Consumption (2020-21)=%{marker.size}<br>CAGR (2017-2021)=%{y}<extra></extra>",
         "hovertext": [
          "South Africa"
         ],
         "legendgroup": "South Africa",
         "marker": {
          "color": "#ab63fa",
          "size": [
           655
          ],
          "sizemode": "area",
          "sizeref": 67.455,
          "symbol": "circle"
         },
         "mode": "markers",
         "name": "South Africa",
         "orientation": "v",
         "showlegend": true,
         "type": "scatter",
         "x": [
          655
         ],
         "xaxis": "x",
         "y": [
          0.9
         ],
         "yaxis": "y"
        },
        {
         "hovertemplate": "<b>%{hovertext}</b><br><br>country=Colombia<br>Total Consumption (2020-21)=%{marker.size}<br>CAGR (2017-2021)=%{y}<extra></extra>",
         "hovertext": [
          "Colombia"
         ],
         "legendgroup": "Colombia",
         "marker": {
          "color": "#FFA15A",
          "size": [
           2045
          ],
          "sizemode": "area",
          "sizeref": 67.455,
          "symbol": "circle"
         },
         "mode": "markers",
         "name": "Colombia",
         "orientation": "v",
         "showlegend": true,
         "type": "scatter",
         "x": [
          2045
         ],
         "xaxis": "x",
         "y": [
          4.5
         ],
         "yaxis": "y"
        },
        {
         "hovertemplate": "<b>%{hovertext}</b><br><br>country=South Korea<br>Total Consumption (2020-21)=%{marker.size}<br>CAGR (2017-2021)=%{y}<extra></extra>",
         "hovertext": [
          "South Korea"
         ],
         "legendgroup": "South Korea",
         "marker": {
          "color": "#19d3f3",
          "size": [
           2513
          ],
          "sizemode": "area",
          "sizeref": 67.455,
          "symbol": "circle"
         },
         "mode": "markers",
         "name": "South Korea",
         "orientation": "v",
         "showlegend": true,
         "type": "scatter",
         "x": [
          2513
         ],
         "xaxis": "x",
         "y": [
          2
         ],
         "yaxis": "y"
        },
        {
         "hovertemplate": "<b>%{hovertext}</b><br><br>country=Sudan<br>Total Consumption (2020-21)=%{marker.size}<br>CAGR (2017-2021)=%{y}<extra></extra>",
         "hovertext": [
          "Sudan"
         ],
         "legendgroup": "Sudan",
         "marker": {
          "color": "#FF6692",
          "size": [
           702
          ],
          "sizemode": "area",
          "sizeref": 67.455,
          "symbol": "circle"
         },
         "mode": "markers",
         "name": "Sudan",
         "orientation": "v",
         "showlegend": true,
         "type": "scatter",
         "x": [
          702
         ],
         "xaxis": "x",
         "y": [
          5.1
         ],
         "yaxis": "y"
        },
        {
         "hovertemplate": "<b>%{hovertext}</b><br><br>country=Uganda<br>Total Consumption (2020-21)=%{marker.size}<br>CAGR (2017-2021)=%{y}<extra></extra>",
         "hovertext": [
          "Uganda"
         ],
         "legendgroup": "Uganda",
         "marker": {
          "color": "#B6E880",
          "size": [
           263
          ],
          "sizemode": "area",
          "sizeref": 67.455,
          "symbol": "circle"
         },
         "mode": "markers",
         "name": "Uganda",
         "orientation": "v",
         "showlegend": true,
         "type": "scatter",
         "x": [
          263
         ],
         "xaxis": "x",
         "y": [
          2.4
         ],
         "yaxis": "y"
        },
        {
         "hovertemplate": "<b>%{hovertext}</b><br><br>country=Algeria<br>Total Consumption (2020-21)=%{marker.size}<br>CAGR (2017-2021)=%{y}<extra></extra>",
         "hovertext": [
          "Algeria"
         ],
         "legendgroup": "Algeria",
         "marker": {
          "color": "#FF97FF",
          "size": [
           2131
          ],
          "sizemode": "area",
          "sizeref": 67.455,
          "symbol": "circle"
         },
         "mode": "markers",
         "name": "Algeria",
         "orientation": "v",
         "showlegend": true,
         "type": "scatter",
         "x": [
          2131
         ],
         "xaxis": "x",
         "y": [
          3.7
         ],
         "yaxis": "y"
        },
        {
         "hovertemplate": "<b>%{hovertext}</b><br><br>country=Argentina<br>Total Consumption (2020-21)=%{marker.size}<br>CAGR (2017-2021)=%{y}<extra></extra>",
         "hovertext": [
          "Argentina"
         ],
         "legendgroup": "Argentina",
         "marker": {
          "color": "#FECB52",
          "size": [
           644
          ],
          "sizemode": "area",
          "sizeref": 67.455,
          "symbol": "circle"
         },
         "mode": "markers",
         "name": "Argentina",
         "orientation": "v",
         "showlegend": true,
         "type": "scatter",
         "x": [
          644
         ],
         "xaxis": "x",
         "y": [
          2.2
         ],
         "yaxis": "y"
        },
        {
         "hovertemplate": "<b>%{hovertext}</b><br><br>country=Canada<br>Total Consumption (2020-21)=%{marker.size}<br>CAGR (2017-2021)=%{y}<extra></extra>",
         "hovertext": [
          "Canada"
         ],
         "legendgroup": "Canada",
         "marker": {
          "color": "#636efa",
          "size": [
           4011
          ],
          "sizemode": "area",
          "sizeref": 67.455,
          "symbol": "circle"
         },
         "mode": "markers",
         "name": "Canada",
         "orientation": "v",
         "showlegend": true,
         "type": "scatter",
         "x": [
          4011
         ],
         "xaxis": "x",
         "y": [
          1.6
         ],
         "yaxis": "y"
        },
        {
         "hovertemplate": "<b>%{hovertext}</b><br><br>country=Morocco<br>Total Consumption (2020-21)=%{marker.size}<br>CAGR (2017-2021)=%{y}<extra></extra>",
         "hovertext": [
          "Morocco"
         ],
         "legendgroup": "Morocco",
         "marker": {
          "color": "#EF553B",
          "size": [
           780
          ],
          "sizemode": "area",
          "sizeref": 67.455,
          "symbol": "circle"
         },
         "mode": "markers",
         "name": "Morocco",
         "orientation": "v",
         "showlegend": true,
         "type": "scatter",
         "x": [
          780
         ],
         "xaxis": "x",
         "y": [
          1.8
         ],
         "yaxis": "y"
        },
        {
         "hovertemplate": "<b>%{hovertext}</b><br><br>country=Ukraine<br>Total Consumption (2020-21)=%{marker.size}<br>CAGR (2017-2021)=%{y}<extra></extra>",
         "hovertext": [
          "Ukraine"
         ],
         "legendgroup": "Ukraine",
         "marker": {
          "color": "#00cc96",
          "size": [
           1379
          ],
          "sizemode": "area",
          "sizeref": 67.455,
          "symbol": "circle"
         },
         "mode": "markers",
         "name": "Ukraine",
         "orientation": "v",
         "showlegend": true,
         "type": "scatter",
         "x": [
          1379
         ],
         "xaxis": "x",
         "y": [
          3.3
         ],
         "yaxis": "y"
        },
        {
         "hovertemplate": "<b>%{hovertext}</b><br><br>country=Peru<br>Total Consumption (2020-21)=%{marker.size}<br>CAGR (2017-2021)=%{y}<extra></extra>",
         "hovertext": [
          "Peru"
         ],
         "legendgroup": "Peru",
         "marker": {
          "color": "#ab63fa",
          "size": [
           250
          ],
          "sizemode": "area",
          "sizeref": 67.455,
          "symbol": "circle"
         },
         "mode": "markers",
         "name": "Peru",
         "orientation": "v",
         "showlegend": true,
         "type": "scatter",
         "x": [
          250
         ],
         "xaxis": "x",
         "y": [
          null
         ],
         "yaxis": "y"
        },
        {
         "hovertemplate": "<b>%{hovertext}</b><br><br>country=Saudi Arabia<br>Total Consumption (2020-21)=%{marker.size}<br>CAGR (2017-2021)=%{y}<extra></extra>",
         "hovertext": [
          "Saudi Arabia"
         ],
         "legendgroup": "Saudi Arabia",
         "marker": {
          "color": "#FFA15A",
          "size": [
           1253
          ],
          "sizemode": "area",
          "sizeref": 67.455,
          "symbol": "circle"
         },
         "mode": "markers",
         "name": "Saudi Arabia",
         "orientation": "v",
         "showlegend": true,
         "type": "scatter",
         "x": [
          1253
         ],
         "xaxis": "x",
         "y": [
          -0.6
         ],
         "yaxis": "y"
        },
        {
         "hovertemplate": "<b>%{hovertext}</b><br><br>country=Madagascar<br>Total Consumption (2020-21)=%{marker.size}<br>CAGR (2017-2021)=%{y}<extra></extra>",
         "hovertext": [
          "Madagascar"
         ],
         "legendgroup": "Madagascar",
         "marker": {
          "color": "#19d3f3",
          "size": [
           377
          ],
          "sizemode": "area",
          "sizeref": 67.455,
          "symbol": "circle"
         },
         "mode": "markers",
         "name": "Madagascar",
         "orientation": "v",
         "showlegend": true,
         "type": "scatter",
         "x": [
          377
         ],
         "xaxis": "x",
         "y": [
          1.1
         ],
         "yaxis": "y"
        },
        {
         "hovertemplate": "<b>%{hovertext}</b><br><br>country=Ivory Coast<br>Total Consumption (2020-21)=%{marker.size}<br>CAGR (2017-2021)=%{y}<extra></extra>",
         "hovertext": [
          "Ivory Coast"
         ],
         "legendgroup": "Ivory Coast",
         "marker": {
          "color": "#FF6692",
          "size": [
           317
          ],
          "sizemode": "area",
          "sizeref": 67.455,
          "symbol": "circle"
         },
         "mode": "markers",
         "name": "Ivory Coast",
         "orientation": "v",
         "showlegend": true,
         "type": "scatter",
         "x": [
          317
         ],
         "xaxis": "x",
         "y": [
          null
         ],
         "yaxis": "y"
        },
        {
         "hovertemplate": "<b>%{hovertext}</b><br><br>country=Venezuela<br>Total Consumption (2020-21)=%{marker.size}<br>CAGR (2017-2021)=%{y}<extra></extra>",
         "hovertext": [
          "Venezuela"
         ],
         "legendgroup": "Venezuela",
         "marker": {
          "color": "#B6E880",
          "size": [
           1100
          ],
          "sizemode": "area",
          "sizeref": 67.455,
          "symbol": "circle"
         },
         "mode": "markers",
         "name": "Venezuela",
         "orientation": "v",
         "showlegend": true,
         "type": "scatter",
         "x": [
          1100
         ],
         "xaxis": "x",
         "y": [
          -11.7
         ],
         "yaxis": "y"
        },
        {
         "hovertemplate": "<b>%{hovertext}</b><br><br>country=Australia<br>Total Consumption (2020-21)=%{marker.size}<br>CAGR (2017-2021)=%{y}<extra></extra>",
         "hovertext": [
          "Australia"
         ],
         "legendgroup": "Australia",
         "marker": {
          "color": "#FF97FF",
          "size": [
           1962
          ],
          "sizemode": "area",
          "sizeref": 67.455,
          "symbol": "circle"
         },
         "mode": "markers",
         "name": "Australia",
         "orientation": "v",
         "showlegend": true,
         "type": "scatter",
         "x": [
          1962
         ],
         "xaxis": "x",
         "y": [
          1.9
         ],
         "yaxis": "y"
        },
        {
         "hovertemplate": "<b>%{hovertext}</b><br><br>country=Taiwan<br>Total Consumption (2020-21)=%{marker.size}<br>CAGR (2017-2021)=%{y}<extra></extra>",
         "hovertext": [
          "Taiwan"
         ],
         "legendgroup": "Taiwan",
         "marker": {
          "color": "#FECB52",
          "size": [
           725
          ],
          "sizemode": "area",
          "sizeref": 67.455,
          "symbol": "circle"
         },
         "mode": "markers",
         "name": "Taiwan",
         "orientation": "v",
         "showlegend": true,
         "type": "scatter",
         "x": [
          725
         ],
         "xaxis": "x",
         "y": [
          1.6
         ],
         "yaxis": "y"
        },
        {
         "hovertemplate": "<b>%{hovertext}</b><br><br>country=Guatemala<br>Total Consumption (2020-21)=%{marker.size}<br>CAGR (2017-2021)=%{y}<extra></extra>",
         "hovertext": [
          "Guatemala"
         ],
         "legendgroup": "Guatemala",
         "marker": {
          "color": "#636efa",
          "size": [
           403
          ],
          "sizemode": "area",
          "sizeref": 67.455,
          "symbol": "circle"
         },
         "mode": "markers",
         "name": "Guatemala",
         "orientation": "v",
         "showlegend": true,
         "type": "scatter",
         "x": [
          403
         ],
         "xaxis": "x",
         "y": [
          0.7
         ],
         "yaxis": "y"
        },
        {
         "hovertemplate": "<b>%{hovertext}</b><br><br>country=Haiti<br>Total Consumption (2020-21)=%{marker.size}<br>CAGR (2017-2021)=%{y}<extra></extra>",
         "hovertext": [
          "Haiti"
         ],
         "legendgroup": "Haiti",
         "marker": {
          "color": "#EF553B",
          "size": [
           341
          ],
          "sizemode": "area",
          "sizeref": 67.455,
          "symbol": "circle"
         },
         "mode": "markers",
         "name": "Haiti",
         "orientation": "v",
         "showlegend": true,
         "type": "scatter",
         "x": [
          341
         ],
         "xaxis": "x",
         "y": [
          0.1
         ],
         "yaxis": "y"
        },
        {
         "hovertemplate": "<b>%{hovertext}</b><br><br>country=Dominican Republic<br>Total Consumption (2020-21)=%{marker.size}<br>CAGR (2017-2021)=%{y}<extra></extra>",
         "hovertext": [
          "Dominican Republic"
         ],
         "legendgroup": "Dominican Republic",
         "marker": {
          "color": "#00cc96",
          "size": [
           383
          ],
          "sizemode": "area",
          "sizeref": 67.455,
          "symbol": "circle"
         },
         "mode": "markers",
         "name": "Dominican Republic",
         "orientation": "v",
         "showlegend": true,
         "type": "scatter",
         "x": [
          383
         ],
         "xaxis": "x",
         "y": [
          -0.6
         ],
         "yaxis": "y"
        },
        {
         "hovertemplate": "<b>%{hovertext}</b><br><br>country=Honduras<br>Total Consumption (2020-21)=%{marker.size}<br>CAGR (2017-2021)=%{y}<extra></extra>",
         "hovertext": [
          "Honduras"
         ],
         "legendgroup": "Honduras",
         "marker": {
          "color": "#ab63fa",
          "size": [
           375
          ],
          "sizemode": "area",
          "sizeref": 67.455,
          "symbol": "circle"
         },
         "mode": "markers",
         "name": "Honduras",
         "orientation": "v",
         "showlegend": true,
         "type": "scatter",
         "x": [
          375
         ],
         "xaxis": "x",
         "y": [
          null
         ],
         "yaxis": "y"
        },
        {
         "hovertemplate": "<b>%{hovertext}</b><br><br>country=Switzerland<br>Total Consumption (2020-21)=%{marker.size}<br>CAGR (2017-2021)=%{y}<extra></extra>",
         "hovertext": [
          "Switzerland"
         ],
         "legendgroup": "Switzerland",
         "marker": {
          "color": "#FFA15A",
          "size": [
           1074
          ],
          "sizemode": "area",
          "sizeref": 67.455,
          "symbol": "circle"
         },
         "mode": "markers",
         "name": "Switzerland",
         "orientation": "v",
         "showlegend": true,
         "type": "scatter",
         "x": [
          1074
         ],
         "xaxis": "x",
         "y": [
          2
         ],
         "yaxis": "y"
        },
        {
         "hovertemplate": "<b>%{hovertext}</b><br><br>country=El Salvador<br>Total Consumption (2020-21)=%{marker.size}<br>CAGR (2017-2021)=%{y}<extra></extra>",
         "hovertext": [
          "El Salvador"
         ],
         "legendgroup": "El Salvador",
         "marker": {
          "color": "#19d3f3",
          "size": [
           295
          ],
          "sizemode": "area",
          "sizeref": 67.455,
          "symbol": "circle"
         },
         "mode": "markers",
         "name": "El Salvador",
         "orientation": "v",
         "showlegend": true,
         "type": "scatter",
         "x": [
          295
         ],
         "xaxis": "x",
         "y": [
          -0.6
         ],
         "yaxis": "y"
        },
        {
         "hovertemplate": "<b>%{hovertext}</b><br><br>country=Lebanon<br>Total Consumption (2020-21)=%{marker.size}<br>CAGR (2017-2021)=%{y}<extra></extra>",
         "hovertext": [
          "Lebanon"
         ],
         "legendgroup": "Lebanon",
         "marker": {
          "color": "#FF6692",
          "size": [
           452
          ],
          "sizemode": "area",
          "sizeref": 67.455,
          "symbol": "circle"
         },
         "mode": "markers",
         "name": "Lebanon",
         "orientation": "v",
         "showlegend": true,
         "type": "scatter",
         "x": [
          452
         ],
         "xaxis": "x",
         "y": [
          -9.5
         ],
         "yaxis": "y"
        },
        {
         "hovertemplate": "<b>%{hovertext}</b><br><br>country=Norway<br>Total Consumption (2020-21)=%{marker.size}<br>CAGR (2017-2021)=%{y}<extra></extra>",
         "hovertext": [
          "Norway"
         ],
         "legendgroup": "Norway",
         "marker": {
          "color": "#B6E880",
          "size": [
           924
          ],
          "sizemode": "area",
          "sizeref": 67.455,
          "symbol": "circle"
         },
         "mode": "markers",
         "name": "Norway",
         "orientation": "v",
         "showlegend": true,
         "type": "scatter",
         "x": [
          924
         ],
         "xaxis": "x",
         "y": [
          8.2
         ],
         "yaxis": "y"
        },
        {
         "hovertemplate": "<b>%{hovertext}</b><br><br>country=Costa Rica<br>Total Consumption (2020-21)=%{marker.size}<br>CAGR (2017-2021)=%{y}<extra></extra>",
         "hovertext": [
          "Costa Rica"
         ],
         "legendgroup": "Costa Rica",
         "marker": {
          "color": "#FF97FF",
          "size": [
           353
          ],
          "sizemode": "area",
          "sizeref": 67.455,
          "symbol": "circle"
         },
         "mode": "markers",
         "name": "Costa Rica",
         "orientation": "v",
         "showlegend": true,
         "type": "scatter",
         "x": [
          353
         ],
         "xaxis": "x",
         "y": [
          null
         ],
         "yaxis": "y"
        }
       ],
       "layout": {
        "legend": {
         "itemsizing": "constant",
         "title": {
          "text": "country"
         },
         "tracegroupgap": 0
        },
        "template": {
         "data": {
          "bar": [
           {
            "error_x": {
             "color": "#f2f5fa"
            },
            "error_y": {
             "color": "#f2f5fa"
            },
            "marker": {
             "line": {
              "color": "rgb(17,17,17)",
              "width": 0.5
             },
             "pattern": {
              "fillmode": "overlay",
              "size": 10,
              "solidity": 0.2
             }
            },
            "type": "bar"
           }
          ],
          "barpolar": [
           {
            "marker": {
             "line": {
              "color": "rgb(17,17,17)",
              "width": 0.5
             },
             "pattern": {
              "fillmode": "overlay",
              "size": 10,
              "solidity": 0.2
             }
            },
            "type": "barpolar"
           }
          ],
          "carpet": [
           {
            "aaxis": {
             "endlinecolor": "#A2B1C6",
             "gridcolor": "#506784",
             "linecolor": "#506784",
             "minorgridcolor": "#506784",
             "startlinecolor": "#A2B1C6"
            },
            "baxis": {
             "endlinecolor": "#A2B1C6",
             "gridcolor": "#506784",
             "linecolor": "#506784",
             "minorgridcolor": "#506784",
             "startlinecolor": "#A2B1C6"
            },
            "type": "carpet"
           }
          ],
          "choropleth": [
           {
            "colorbar": {
             "outlinewidth": 0,
             "ticks": ""
            },
            "type": "choropleth"
           }
          ],
          "contour": [
           {
            "colorbar": {
             "outlinewidth": 0,
             "ticks": ""
            },
            "colorscale": [
             [
              0,
              "#0d0887"
             ],
             [
              0.1111111111111111,
              "#46039f"
             ],
             [
              0.2222222222222222,
              "#7201a8"
             ],
             [
              0.3333333333333333,
              "#9c179e"
             ],
             [
              0.4444444444444444,
              "#bd3786"
             ],
             [
              0.5555555555555556,
              "#d8576b"
             ],
             [
              0.6666666666666666,
              "#ed7953"
             ],
             [
              0.7777777777777778,
              "#fb9f3a"
             ],
             [
              0.8888888888888888,
              "#fdca26"
             ],
             [
              1,
              "#f0f921"
             ]
            ],
            "type": "contour"
           }
          ],
          "contourcarpet": [
           {
            "colorbar": {
             "outlinewidth": 0,
             "ticks": ""
            },
            "type": "contourcarpet"
           }
          ],
          "heatmap": [
           {
            "colorbar": {
             "outlinewidth": 0,
             "ticks": ""
            },
            "colorscale": [
             [
              0,
              "#0d0887"
             ],
             [
              0.1111111111111111,
              "#46039f"
             ],
             [
              0.2222222222222222,
              "#7201a8"
             ],
             [
              0.3333333333333333,
              "#9c179e"
             ],
             [
              0.4444444444444444,
              "#bd3786"
             ],
             [
              0.5555555555555556,
              "#d8576b"
             ],
             [
              0.6666666666666666,
              "#ed7953"
             ],
             [
              0.7777777777777778,
              "#fb9f3a"
             ],
             [
              0.8888888888888888,
              "#fdca26"
             ],
             [
              1,
              "#f0f921"
             ]
            ],
            "type": "heatmap"
           }
          ],
          "heatmapgl": [
           {
            "colorbar": {
             "outlinewidth": 0,
             "ticks": ""
            },
            "colorscale": [
             [
              0,
              "#0d0887"
             ],
             [
              0.1111111111111111,
              "#46039f"
             ],
             [
              0.2222222222222222,
              "#7201a8"
             ],
             [
              0.3333333333333333,
              "#9c179e"
             ],
             [
              0.4444444444444444,
              "#bd3786"
             ],
             [
              0.5555555555555556,
              "#d8576b"
             ],
             [
              0.6666666666666666,
              "#ed7953"
             ],
             [
              0.7777777777777778,
              "#fb9f3a"
             ],
             [
              0.8888888888888888,
              "#fdca26"
             ],
             [
              1,
              "#f0f921"
             ]
            ],
            "type": "heatmapgl"
           }
          ],
          "histogram": [
           {
            "marker": {
             "pattern": {
              "fillmode": "overlay",
              "size": 10,
              "solidity": 0.2
             }
            },
            "type": "histogram"
           }
          ],
          "histogram2d": [
           {
            "colorbar": {
             "outlinewidth": 0,
             "ticks": ""
            },
            "colorscale": [
             [
              0,
              "#0d0887"
             ],
             [
              0.1111111111111111,
              "#46039f"
             ],
             [
              0.2222222222222222,
              "#7201a8"
             ],
             [
              0.3333333333333333,
              "#9c179e"
             ],
             [
              0.4444444444444444,
              "#bd3786"
             ],
             [
              0.5555555555555556,
              "#d8576b"
             ],
             [
              0.6666666666666666,
              "#ed7953"
             ],
             [
              0.7777777777777778,
              "#fb9f3a"
             ],
             [
              0.8888888888888888,
              "#fdca26"
             ],
             [
              1,
              "#f0f921"
             ]
            ],
            "type": "histogram2d"
           }
          ],
          "histogram2dcontour": [
           {
            "colorbar": {
             "outlinewidth": 0,
             "ticks": ""
            },
            "colorscale": [
             [
              0,
              "#0d0887"
             ],
             [
              0.1111111111111111,
              "#46039f"
             ],
             [
              0.2222222222222222,
              "#7201a8"
             ],
             [
              0.3333333333333333,
              "#9c179e"
             ],
             [
              0.4444444444444444,
              "#bd3786"
             ],
             [
              0.5555555555555556,
              "#d8576b"
             ],
             [
              0.6666666666666666,
              "#ed7953"
             ],
             [
              0.7777777777777778,
              "#fb9f3a"
             ],
             [
              0.8888888888888888,
              "#fdca26"
             ],
             [
              1,
              "#f0f921"
             ]
            ],
            "type": "histogram2dcontour"
           }
          ],
          "mesh3d": [
           {
            "colorbar": {
             "outlinewidth": 0,
             "ticks": ""
            },
            "type": "mesh3d"
           }
          ],
          "parcoords": [
           {
            "line": {
             "colorbar": {
              "outlinewidth": 0,
              "ticks": ""
             }
            },
            "type": "parcoords"
           }
          ],
          "pie": [
           {
            "automargin": true,
            "type": "pie"
           }
          ],
          "scatter": [
           {
            "marker": {
             "line": {
              "color": "#283442"
             }
            },
            "type": "scatter"
           }
          ],
          "scatter3d": [
           {
            "line": {
             "colorbar": {
              "outlinewidth": 0,
              "ticks": ""
             }
            },
            "marker": {
             "colorbar": {
              "outlinewidth": 0,
              "ticks": ""
             }
            },
            "type": "scatter3d"
           }
          ],
          "scattercarpet": [
           {
            "marker": {
             "colorbar": {
              "outlinewidth": 0,
              "ticks": ""
             }
            },
            "type": "scattercarpet"
           }
          ],
          "scattergeo": [
           {
            "marker": {
             "colorbar": {
              "outlinewidth": 0,
              "ticks": ""
             }
            },
            "type": "scattergeo"
           }
          ],
          "scattergl": [
           {
            "marker": {
             "line": {
              "color": "#283442"
             }
            },
            "type": "scattergl"
           }
          ],
          "scattermapbox": [
           {
            "marker": {
             "colorbar": {
              "outlinewidth": 0,
              "ticks": ""
             }
            },
            "type": "scattermapbox"
           }
          ],
          "scatterpolar": [
           {
            "marker": {
             "colorbar": {
              "outlinewidth": 0,
              "ticks": ""
             }
            },
            "type": "scatterpolar"
           }
          ],
          "scatterpolargl": [
           {
            "marker": {
             "colorbar": {
              "outlinewidth": 0,
              "ticks": ""
             }
            },
            "type": "scatterpolargl"
           }
          ],
          "scatterternary": [
           {
            "marker": {
             "colorbar": {
              "outlinewidth": 0,
              "ticks": ""
             }
            },
            "type": "scatterternary"
           }
          ],
          "surface": [
           {
            "colorbar": {
             "outlinewidth": 0,
             "ticks": ""
            },
            "colorscale": [
             [
              0,
              "#0d0887"
             ],
             [
              0.1111111111111111,
              "#46039f"
             ],
             [
              0.2222222222222222,
              "#7201a8"
             ],
             [
              0.3333333333333333,
              "#9c179e"
             ],
             [
              0.4444444444444444,
              "#bd3786"
             ],
             [
              0.5555555555555556,
              "#d8576b"
             ],
             [
              0.6666666666666666,
              "#ed7953"
             ],
             [
              0.7777777777777778,
              "#fb9f3a"
             ],
             [
              0.8888888888888888,
              "#fdca26"
             ],
             [
              1,
              "#f0f921"
             ]
            ],
            "type": "surface"
           }
          ],
          "table": [
           {
            "cells": {
             "fill": {
              "color": "#506784"
             },
             "line": {
              "color": "rgb(17,17,17)"
             }
            },
            "header": {
             "fill": {
              "color": "#2a3f5f"
             },
             "line": {
              "color": "rgb(17,17,17)"
             }
            },
            "type": "table"
           }
          ]
         },
         "layout": {
          "annotationdefaults": {
           "arrowcolor": "#f2f5fa",
           "arrowhead": 0,
           "arrowwidth": 1
          },
          "autotypenumbers": "strict",
          "coloraxis": {
           "colorbar": {
            "outlinewidth": 0,
            "ticks": ""
           }
          },
          "colorscale": {
           "diverging": [
            [
             0,
             "#8e0152"
            ],
            [
             0.1,
             "#c51b7d"
            ],
            [
             0.2,
             "#de77ae"
            ],
            [
             0.3,
             "#f1b6da"
            ],
            [
             0.4,
             "#fde0ef"
            ],
            [
             0.5,
             "#f7f7f7"
            ],
            [
             0.6,
             "#e6f5d0"
            ],
            [
             0.7,
             "#b8e186"
            ],
            [
             0.8,
             "#7fbc41"
            ],
            [
             0.9,
             "#4d9221"
            ],
            [
             1,
             "#276419"
            ]
           ],
           "sequential": [
            [
             0,
             "#0d0887"
            ],
            [
             0.1111111111111111,
             "#46039f"
            ],
            [
             0.2222222222222222,
             "#7201a8"
            ],
            [
             0.3333333333333333,
             "#9c179e"
            ],
            [
             0.4444444444444444,
             "#bd3786"
            ],
            [
             0.5555555555555556,
             "#d8576b"
            ],
            [
             0.6666666666666666,
             "#ed7953"
            ],
            [
             0.7777777777777778,
             "#fb9f3a"
            ],
            [
             0.8888888888888888,
             "#fdca26"
            ],
            [
             1,
             "#f0f921"
            ]
           ],
           "sequentialminus": [
            [
             0,
             "#0d0887"
            ],
            [
             0.1111111111111111,
             "#46039f"
            ],
            [
             0.2222222222222222,
             "#7201a8"
            ],
            [
             0.3333333333333333,
             "#9c179e"
            ],
            [
             0.4444444444444444,
             "#bd3786"
            ],
            [
             0.5555555555555556,
             "#d8576b"
            ],
            [
             0.6666666666666666,
             "#ed7953"
            ],
            [
             0.7777777777777778,
             "#fb9f3a"
            ],
            [
             0.8888888888888888,
             "#fdca26"
            ],
            [
             1,
             "#f0f921"
            ]
           ]
          },
          "colorway": [
           "#636efa",
           "#EF553B",
           "#00cc96",
           "#ab63fa",
           "#FFA15A",
           "#19d3f3",
           "#FF6692",
           "#B6E880",
           "#FF97FF",
           "#FECB52"
          ],
          "font": {
           "color": "#f2f5fa"
          },
          "geo": {
           "bgcolor": "rgb(17,17,17)",
           "lakecolor": "rgb(17,17,17)",
           "landcolor": "rgb(17,17,17)",
           "showlakes": true,
           "showland": true,
           "subunitcolor": "#506784"
          },
          "hoverlabel": {
           "align": "left"
          },
          "hovermode": "closest",
          "mapbox": {
           "style": "dark"
          },
          "paper_bgcolor": "rgb(17,17,17)",
          "plot_bgcolor": "rgb(17,17,17)",
          "polar": {
           "angularaxis": {
            "gridcolor": "#506784",
            "linecolor": "#506784",
            "ticks": ""
           },
           "bgcolor": "rgb(17,17,17)",
           "radialaxis": {
            "gridcolor": "#506784",
            "linecolor": "#506784",
            "ticks": ""
           }
          },
          "scene": {
           "xaxis": {
            "backgroundcolor": "rgb(17,17,17)",
            "gridcolor": "#506784",
            "gridwidth": 2,
            "linecolor": "#506784",
            "showbackground": true,
            "ticks": "",
            "zerolinecolor": "#C8D4E3"
           },
           "yaxis": {
            "backgroundcolor": "rgb(17,17,17)",
            "gridcolor": "#506784",
            "gridwidth": 2,
            "linecolor": "#506784",
            "showbackground": true,
            "ticks": "",
            "zerolinecolor": "#C8D4E3"
           },
           "zaxis": {
            "backgroundcolor": "rgb(17,17,17)",
            "gridcolor": "#506784",
            "gridwidth": 2,
            "linecolor": "#506784",
            "showbackground": true,
            "ticks": "",
            "zerolinecolor": "#C8D4E3"
           }
          },
          "shapedefaults": {
           "line": {
            "color": "#f2f5fa"
           }
          },
          "sliderdefaults": {
           "bgcolor": "#C8D4E3",
           "bordercolor": "rgb(17,17,17)",
           "borderwidth": 1,
           "tickwidth": 0
          },
          "ternary": {
           "aaxis": {
            "gridcolor": "#506784",
            "linecolor": "#506784",
            "ticks": ""
           },
           "baxis": {
            "gridcolor": "#506784",
            "linecolor": "#506784",
            "ticks": ""
           },
           "bgcolor": "rgb(17,17,17)",
           "caxis": {
            "gridcolor": "#506784",
            "linecolor": "#506784",
            "ticks": ""
           }
          },
          "title": {
           "x": 0.05
          },
          "updatemenudefaults": {
           "bgcolor": "#506784",
           "borderwidth": 0
          },
          "xaxis": {
           "automargin": true,
           "gridcolor": "#283442",
           "linecolor": "#506784",
           "ticks": "",
           "title": {
            "standoff": 15
           },
           "zerolinecolor": "#283442",
           "zerolinewidth": 2
          },
          "yaxis": {
           "automargin": true,
           "gridcolor": "#283442",
           "linecolor": "#506784",
           "ticks": "",
           "title": {
            "standoff": 15
           },
           "zerolinecolor": "#283442",
           "zerolinewidth": 2
          }
         }
        },
        "title": {
         "text": "Coffee Consumption vs. Growth Rate (CAGR)"
        },
        "xaxis": {
         "anchor": "y",
         "domain": [
          0,
          1
         ],
         "title": {
          "text": "Total Consumption (2020-21)"
         }
        },
        "yaxis": {
         "anchor": "x",
         "domain": [
          0,
          1
         ],
         "title": {
          "text": "CAGR (2017-2021)"
         }
        }
       }
      }
     },
     "metadata": {},
     "output_type": "display_data"
    }
   ],
   "source": [
    "import plotly.express as px\n",
    "\n",
    "# Scatter plot for CAGR vs. total consumption\n",
    "fig = px.scatter(\n",
    "    coffee_data,\n",
    "    x='coffeeConsumptionByCountry_totCons_202021',\n",
    "    y='coffeeConsumption_CAGR201718202021',\n",
    "    color='country',\n",
    "    size='coffeeConsumptionByCountry_totCons_202021',\n",
    "    hover_name='country',\n",
    "    title='Coffee Consumption vs. Growth Rate (CAGR)',\n",
    "    labels={'coffeeConsumptionByCountry_totCons_202021': 'Total Consumption (2020-21)', 'coffeeConsumption_CAGR201718202021': 'CAGR (2017-2021)'},\n",
    "    template='plotly_dark'\n",
    ")\n",
    "fig.show()\n"
   ]
  },
  {
   "cell_type": "code",
   "execution_count": 22,
   "id": "1fc95e3e",
   "metadata": {},
   "outputs": [
    {
     "data": {
      "application/vnd.plotly.v1+json": {
       "config": {
        "plotlyServerURL": "https://plot.ly"
       },
       "data": [
        {
         "coloraxis": "coloraxis",
         "geo": "geo",
         "hovertemplate": "country=%{location}<br>Total Consumption=%{z}<extra></extra>",
         "locationmode": "country names",
         "locations": [
          "India",
          "United States",
          "Indonesia",
          "Brazil",
          "Russia",
          "Ethiopia",
          "Mexico",
          "Japan",
          "Egypt",
          "Philippines",
          "Vietnam",
          "Turkey",
          "Thailand",
          "South Africa",
          "Colombia",
          "South Korea",
          "Sudan",
          "Uganda",
          "Algeria",
          "Argentina",
          "Canada",
          "Morocco",
          "Ukraine",
          "Peru",
          "Saudi Arabia",
          "Madagascar",
          "Ivory Coast",
          "Venezuela",
          "Australia",
          "Taiwan",
          "Guatemala",
          "Haiti",
          "Dominican Republic",
          "Honduras",
          "Switzerland",
          "El Salvador",
          "Lebanon",
          "Norway",
          "Costa Rica"
         ],
         "name": "",
         "type": "choropleth",
         "z": [
          1485,
          26982,
          5000,
          22400,
          4681,
          3798,
          2420,
          7386,
          1279,
          3312,
          2700,
          1754,
          1415,
          655,
          2045,
          2513,
          702,
          263,
          2131,
          644,
          4011,
          780,
          1379,
          250,
          1253,
          377,
          317,
          1100,
          1962,
          725,
          403,
          341,
          383,
          375,
          1074,
          295,
          452,
          924,
          353
         ]
        }
       ],
       "layout": {
        "coloraxis": {
         "colorbar": {
          "title": {
           "text": "Total Consumption"
          }
         },
         "colorscale": [
          [
           0,
           "#0d0887"
          ],
          [
           0.1111111111111111,
           "#46039f"
          ],
          [
           0.2222222222222222,
           "#7201a8"
          ],
          [
           0.3333333333333333,
           "#9c179e"
          ],
          [
           0.4444444444444444,
           "#bd3786"
          ],
          [
           0.5555555555555556,
           "#d8576b"
          ],
          [
           0.6666666666666666,
           "#ed7953"
          ],
          [
           0.7777777777777778,
           "#fb9f3a"
          ],
          [
           0.8888888888888888,
           "#fdca26"
          ],
          [
           1,
           "#f0f921"
          ]
         ]
        },
        "geo": {
         "center": {},
         "domain": {
          "x": [
           0,
           1
          ],
          "y": [
           0,
           1
          ]
         }
        },
        "legend": {
         "tracegroupgap": 0
        },
        "template": {
         "data": {
          "bar": [
           {
            "error_x": {
             "color": "#2a3f5f"
            },
            "error_y": {
             "color": "#2a3f5f"
            },
            "marker": {
             "line": {
              "color": "#E5ECF6",
              "width": 0.5
             },
             "pattern": {
              "fillmode": "overlay",
              "size": 10,
              "solidity": 0.2
             }
            },
            "type": "bar"
           }
          ],
          "barpolar": [
           {
            "marker": {
             "line": {
              "color": "#E5ECF6",
              "width": 0.5
             },
             "pattern": {
              "fillmode": "overlay",
              "size": 10,
              "solidity": 0.2
             }
            },
            "type": "barpolar"
           }
          ],
          "carpet": [
           {
            "aaxis": {
             "endlinecolor": "#2a3f5f",
             "gridcolor": "white",
             "linecolor": "white",
             "minorgridcolor": "white",
             "startlinecolor": "#2a3f5f"
            },
            "baxis": {
             "endlinecolor": "#2a3f5f",
             "gridcolor": "white",
             "linecolor": "white",
             "minorgridcolor": "white",
             "startlinecolor": "#2a3f5f"
            },
            "type": "carpet"
           }
          ],
          "choropleth": [
           {
            "colorbar": {
             "outlinewidth": 0,
             "ticks": ""
            },
            "type": "choropleth"
           }
          ],
          "contour": [
           {
            "colorbar": {
             "outlinewidth": 0,
             "ticks": ""
            },
            "colorscale": [
             [
              0,
              "#0d0887"
             ],
             [
              0.1111111111111111,
              "#46039f"
             ],
             [
              0.2222222222222222,
              "#7201a8"
             ],
             [
              0.3333333333333333,
              "#9c179e"
             ],
             [
              0.4444444444444444,
              "#bd3786"
             ],
             [
              0.5555555555555556,
              "#d8576b"
             ],
             [
              0.6666666666666666,
              "#ed7953"
             ],
             [
              0.7777777777777778,
              "#fb9f3a"
             ],
             [
              0.8888888888888888,
              "#fdca26"
             ],
             [
              1,
              "#f0f921"
             ]
            ],
            "type": "contour"
           }
          ],
          "contourcarpet": [
           {
            "colorbar": {
             "outlinewidth": 0,
             "ticks": ""
            },
            "type": "contourcarpet"
           }
          ],
          "heatmap": [
           {
            "colorbar": {
             "outlinewidth": 0,
             "ticks": ""
            },
            "colorscale": [
             [
              0,
              "#0d0887"
             ],
             [
              0.1111111111111111,
              "#46039f"
             ],
             [
              0.2222222222222222,
              "#7201a8"
             ],
             [
              0.3333333333333333,
              "#9c179e"
             ],
             [
              0.4444444444444444,
              "#bd3786"
             ],
             [
              0.5555555555555556,
              "#d8576b"
             ],
             [
              0.6666666666666666,
              "#ed7953"
             ],
             [
              0.7777777777777778,
              "#fb9f3a"
             ],
             [
              0.8888888888888888,
              "#fdca26"
             ],
             [
              1,
              "#f0f921"
             ]
            ],
            "type": "heatmap"
           }
          ],
          "heatmapgl": [
           {
            "colorbar": {
             "outlinewidth": 0,
             "ticks": ""
            },
            "colorscale": [
             [
              0,
              "#0d0887"
             ],
             [
              0.1111111111111111,
              "#46039f"
             ],
             [
              0.2222222222222222,
              "#7201a8"
             ],
             [
              0.3333333333333333,
              "#9c179e"
             ],
             [
              0.4444444444444444,
              "#bd3786"
             ],
             [
              0.5555555555555556,
              "#d8576b"
             ],
             [
              0.6666666666666666,
              "#ed7953"
             ],
             [
              0.7777777777777778,
              "#fb9f3a"
             ],
             [
              0.8888888888888888,
              "#fdca26"
             ],
             [
              1,
              "#f0f921"
             ]
            ],
            "type": "heatmapgl"
           }
          ],
          "histogram": [
           {
            "marker": {
             "pattern": {
              "fillmode": "overlay",
              "size": 10,
              "solidity": 0.2
             }
            },
            "type": "histogram"
           }
          ],
          "histogram2d": [
           {
            "colorbar": {
             "outlinewidth": 0,
             "ticks": ""
            },
            "colorscale": [
             [
              0,
              "#0d0887"
             ],
             [
              0.1111111111111111,
              "#46039f"
             ],
             [
              0.2222222222222222,
              "#7201a8"
             ],
             [
              0.3333333333333333,
              "#9c179e"
             ],
             [
              0.4444444444444444,
              "#bd3786"
             ],
             [
              0.5555555555555556,
              "#d8576b"
             ],
             [
              0.6666666666666666,
              "#ed7953"
             ],
             [
              0.7777777777777778,
              "#fb9f3a"
             ],
             [
              0.8888888888888888,
              "#fdca26"
             ],
             [
              1,
              "#f0f921"
             ]
            ],
            "type": "histogram2d"
           }
          ],
          "histogram2dcontour": [
           {
            "colorbar": {
             "outlinewidth": 0,
             "ticks": ""
            },
            "colorscale": [
             [
              0,
              "#0d0887"
             ],
             [
              0.1111111111111111,
              "#46039f"
             ],
             [
              0.2222222222222222,
              "#7201a8"
             ],
             [
              0.3333333333333333,
              "#9c179e"
             ],
             [
              0.4444444444444444,
              "#bd3786"
             ],
             [
              0.5555555555555556,
              "#d8576b"
             ],
             [
              0.6666666666666666,
              "#ed7953"
             ],
             [
              0.7777777777777778,
              "#fb9f3a"
             ],
             [
              0.8888888888888888,
              "#fdca26"
             ],
             [
              1,
              "#f0f921"
             ]
            ],
            "type": "histogram2dcontour"
           }
          ],
          "mesh3d": [
           {
            "colorbar": {
             "outlinewidth": 0,
             "ticks": ""
            },
            "type": "mesh3d"
           }
          ],
          "parcoords": [
           {
            "line": {
             "colorbar": {
              "outlinewidth": 0,
              "ticks": ""
             }
            },
            "type": "parcoords"
           }
          ],
          "pie": [
           {
            "automargin": true,
            "type": "pie"
           }
          ],
          "scatter": [
           {
            "fillpattern": {
             "fillmode": "overlay",
             "size": 10,
             "solidity": 0.2
            },
            "type": "scatter"
           }
          ],
          "scatter3d": [
           {
            "line": {
             "colorbar": {
              "outlinewidth": 0,
              "ticks": ""
             }
            },
            "marker": {
             "colorbar": {
              "outlinewidth": 0,
              "ticks": ""
             }
            },
            "type": "scatter3d"
           }
          ],
          "scattercarpet": [
           {
            "marker": {
             "colorbar": {
              "outlinewidth": 0,
              "ticks": ""
             }
            },
            "type": "scattercarpet"
           }
          ],
          "scattergeo": [
           {
            "marker": {
             "colorbar": {
              "outlinewidth": 0,
              "ticks": ""
             }
            },
            "type": "scattergeo"
           }
          ],
          "scattergl": [
           {
            "marker": {
             "colorbar": {
              "outlinewidth": 0,
              "ticks": ""
             }
            },
            "type": "scattergl"
           }
          ],
          "scattermapbox": [
           {
            "marker": {
             "colorbar": {
              "outlinewidth": 0,
              "ticks": ""
             }
            },
            "type": "scattermapbox"
           }
          ],
          "scatterpolar": [
           {
            "marker": {
             "colorbar": {
              "outlinewidth": 0,
              "ticks": ""
             }
            },
            "type": "scatterpolar"
           }
          ],
          "scatterpolargl": [
           {
            "marker": {
             "colorbar": {
              "outlinewidth": 0,
              "ticks": ""
             }
            },
            "type": "scatterpolargl"
           }
          ],
          "scatterternary": [
           {
            "marker": {
             "colorbar": {
              "outlinewidth": 0,
              "ticks": ""
             }
            },
            "type": "scatterternary"
           }
          ],
          "surface": [
           {
            "colorbar": {
             "outlinewidth": 0,
             "ticks": ""
            },
            "colorscale": [
             [
              0,
              "#0d0887"
             ],
             [
              0.1111111111111111,
              "#46039f"
             ],
             [
              0.2222222222222222,
              "#7201a8"
             ],
             [
              0.3333333333333333,
              "#9c179e"
             ],
             [
              0.4444444444444444,
              "#bd3786"
             ],
             [
              0.5555555555555556,
              "#d8576b"
             ],
             [
              0.6666666666666666,
              "#ed7953"
             ],
             [
              0.7777777777777778,
              "#fb9f3a"
             ],
             [
              0.8888888888888888,
              "#fdca26"
             ],
             [
              1,
              "#f0f921"
             ]
            ],
            "type": "surface"
           }
          ],
          "table": [
           {
            "cells": {
             "fill": {
              "color": "#EBF0F8"
             },
             "line": {
              "color": "white"
             }
            },
            "header": {
             "fill": {
              "color": "#C8D4E3"
             },
             "line": {
              "color": "white"
             }
            },
            "type": "table"
           }
          ]
         },
         "layout": {
          "annotationdefaults": {
           "arrowcolor": "#2a3f5f",
           "arrowhead": 0,
           "arrowwidth": 1
          },
          "autotypenumbers": "strict",
          "coloraxis": {
           "colorbar": {
            "outlinewidth": 0,
            "ticks": ""
           }
          },
          "colorscale": {
           "diverging": [
            [
             0,
             "#8e0152"
            ],
            [
             0.1,
             "#c51b7d"
            ],
            [
             0.2,
             "#de77ae"
            ],
            [
             0.3,
             "#f1b6da"
            ],
            [
             0.4,
             "#fde0ef"
            ],
            [
             0.5,
             "#f7f7f7"
            ],
            [
             0.6,
             "#e6f5d0"
            ],
            [
             0.7,
             "#b8e186"
            ],
            [
             0.8,
             "#7fbc41"
            ],
            [
             0.9,
             "#4d9221"
            ],
            [
             1,
             "#276419"
            ]
           ],
           "sequential": [
            [
             0,
             "#0d0887"
            ],
            [
             0.1111111111111111,
             "#46039f"
            ],
            [
             0.2222222222222222,
             "#7201a8"
            ],
            [
             0.3333333333333333,
             "#9c179e"
            ],
            [
             0.4444444444444444,
             "#bd3786"
            ],
            [
             0.5555555555555556,
             "#d8576b"
            ],
            [
             0.6666666666666666,
             "#ed7953"
            ],
            [
             0.7777777777777778,
             "#fb9f3a"
            ],
            [
             0.8888888888888888,
             "#fdca26"
            ],
            [
             1,
             "#f0f921"
            ]
           ],
           "sequentialminus": [
            [
             0,
             "#0d0887"
            ],
            [
             0.1111111111111111,
             "#46039f"
            ],
            [
             0.2222222222222222,
             "#7201a8"
            ],
            [
             0.3333333333333333,
             "#9c179e"
            ],
            [
             0.4444444444444444,
             "#bd3786"
            ],
            [
             0.5555555555555556,
             "#d8576b"
            ],
            [
             0.6666666666666666,
             "#ed7953"
            ],
            [
             0.7777777777777778,
             "#fb9f3a"
            ],
            [
             0.8888888888888888,
             "#fdca26"
            ],
            [
             1,
             "#f0f921"
            ]
           ]
          },
          "colorway": [
           "#636efa",
           "#EF553B",
           "#00cc96",
           "#ab63fa",
           "#FFA15A",
           "#19d3f3",
           "#FF6692",
           "#B6E880",
           "#FF97FF",
           "#FECB52"
          ],
          "font": {
           "color": "#2a3f5f"
          },
          "geo": {
           "bgcolor": "white",
           "lakecolor": "white",
           "landcolor": "#E5ECF6",
           "showlakes": true,
           "showland": true,
           "subunitcolor": "white"
          },
          "hoverlabel": {
           "align": "left"
          },
          "hovermode": "closest",
          "mapbox": {
           "style": "light"
          },
          "paper_bgcolor": "white",
          "plot_bgcolor": "#E5ECF6",
          "polar": {
           "angularaxis": {
            "gridcolor": "white",
            "linecolor": "white",
            "ticks": ""
           },
           "bgcolor": "#E5ECF6",
           "radialaxis": {
            "gridcolor": "white",
            "linecolor": "white",
            "ticks": ""
           }
          },
          "scene": {
           "xaxis": {
            "backgroundcolor": "#E5ECF6",
            "gridcolor": "white",
            "gridwidth": 2,
            "linecolor": "white",
            "showbackground": true,
            "ticks": "",
            "zerolinecolor": "white"
           },
           "yaxis": {
            "backgroundcolor": "#E5ECF6",
            "gridcolor": "white",
            "gridwidth": 2,
            "linecolor": "white",
            "showbackground": true,
            "ticks": "",
            "zerolinecolor": "white"
           },
           "zaxis": {
            "backgroundcolor": "#E5ECF6",
            "gridcolor": "white",
            "gridwidth": 2,
            "linecolor": "white",
            "showbackground": true,
            "ticks": "",
            "zerolinecolor": "white"
           }
          },
          "shapedefaults": {
           "line": {
            "color": "#2a3f5f"
           }
          },
          "ternary": {
           "aaxis": {
            "gridcolor": "white",
            "linecolor": "white",
            "ticks": ""
           },
           "baxis": {
            "gridcolor": "white",
            "linecolor": "white",
            "ticks": ""
           },
           "bgcolor": "#E5ECF6",
           "caxis": {
            "gridcolor": "white",
            "linecolor": "white",
            "ticks": ""
           }
          },
          "title": {
           "x": 0.05
          },
          "xaxis": {
           "automargin": true,
           "gridcolor": "white",
           "linecolor": "white",
           "ticks": "",
           "title": {
            "standoff": 15
           },
           "zerolinecolor": "white",
           "zerolinewidth": 2
          },
          "yaxis": {
           "automargin": true,
           "gridcolor": "white",
           "linecolor": "white",
           "ticks": "",
           "title": {
            "standoff": 15
           },
           "zerolinecolor": "white",
           "zerolinewidth": 2
          }
         }
        },
        "title": {
         "text": "Coffee Consumption by Country (2020-21)"
        }
       }
      }
     },
     "metadata": {},
     "output_type": "display_data"
    }
   ],
   "source": [
    "import plotly.express as px\n",
    "\n",
    "# Choropleth map for coffee consumption\n",
    "fig = px.choropleth(\n",
    "    coffee_data,\n",
    "    locations='country',\n",
    "    locationmode='country names',\n",
    "    color='coffeeConsumptionByCountry_totCons_202021',\n",
    "    title='Coffee Consumption by Country (2020-21)',\n",
    "    labels={'coffeeConsumptionByCountry_totCons_202021': 'Total Consumption'},\n",
    "    template='plotly'\n",
    ")\n",
    "fig.show()\n"
   ]
  },
  {
   "cell_type": "code",
   "execution_count": 24,
   "id": "f336ac42",
   "metadata": {},
   "outputs": [
    {
     "data": {
      "image/png": "[encoded data removed]",
      "text/plain": [
       "<Figure size 1200x800 with 2 Axes>"
      ]
     },
     "metadata": {},
     "output_type": "display_data"
    }
   ],
   "source": [
    "\n",
    "# Pivot table for heatmap\n",
    "heatmap_data = final_combined_data.pivot_table(\n",
    "    index='Ethnic or Cultural Origin',\n",
    "    columns='country',\n",
    "    values='coffeeConsumptionByCountry_totCons_202021',\n",
    "    aggfunc='sum',\n",
    "    fill_value=0\n",
    ")\n",
    "\n",
    "# Heatmap\n",
    "plt.figure(figsize=(12, 8))\n",
    "sns.heatmap(heatmap_data, cmap='coolwarm', annot=False)\n",
    "plt.title('Immigration vs. Coffee Consumption Heatmap', fontsize=16)\n",
    "plt.xlabel('Country')\n",
    "plt.ylabel('Ethnic or Cultural Origin')\n",
    "plt.show()\n"
   ]
  },
  {
   "cell_type": "code",
   "execution_count": 26,
   "id": "4d9b2e5e",
   "metadata": {},
   "outputs": [
    {
     "name": "stdout",
     "output_type": "stream",
     "text": [
      "Index(['country', 'coffeeConsumptionByCountry_totCons_202021',\n",
      "       'coffeeConsumptionByCountry_totCons_201920',\n",
      "       'coffeeConsumptionByCountry_totCons_201819',\n",
      "       'coffeeConsumptionByCountry_totCons_201718',\n",
      "       'coffeeConsumption_CAGR201718202021', 'Ethnic or Cultural Origin',\n",
      "       'REF_DATE', 'GEO', 'Age (15C)', 'Gender (3)', 'Statistics (3)',\n",
      "       'Ethni.c or cultural origin (530)',\n",
      "       'Ethnic or cultural origin: Single or multiple response indicator (3):Total - Single and multiple ethnic or cultural origin responses[1]'],\n",
      "      dtype='object')\n"
     ]
    }
   ],
   "source": [
    "print(final_combined_data.columns)\n"
   ]
  },
  {
   "cell_type": "code",
   "execution_count": 27,
   "id": "aef73c94",
   "metadata": {},
   "outputs": [
    {
     "name": "stderr",
     "output_type": "stream",
     "text": [
      "/var/folders/rz/m9y4lv2543b4h866w76_dhv40000gn/T/ipykernel_38843/3680918319.py:14: FutureWarning:\n",
      "\n",
      "\n",
      "\n",
      "Passing `palette` without assigning `hue` is deprecated and will be removed in v0.14.0. Assign the `x` variable to `hue` and set `legend=False` for the same effect.\n",
      "\n",
      "\n"
     ]
    },
    {
     "data": {
      "image/png": "[encoded data removed]",
      "text/plain": [
       "<Figure size 1200x600 with 1 Axes>"
      ]
     },
     "metadata": {},
     "output_type": "display_data"
    }
   ],
   "source": [
    "import matplotlib.pyplot as plt\n",
    "import seaborn as sns\n",
    "\n",
    "# Summarize immigration counts by province\n",
    "immigration_by_province = final_combined_data.groupby('GEO')[\n",
    "    'Ethnic or cultural origin: Single or multiple response indicator (3):Total - Single and multiple ethnic or cultural origin responses[1]'\n",
    "].sum().reset_index()\n",
    "\n",
    "# Rename columns for better readability\n",
    "immigration_by_province.columns = ['Province', 'Total Immigrants']\n",
    "\n",
    "# Plot\n",
    "plt.figure(figsize=(12, 6))\n",
    "sns.barplot(data=immigration_by_province, x='Province', y='Total Immigrants', palette='viridis')\n",
    "plt.xticks(rotation=45, ha='right')\n",
    "plt.title('Immigration by Province in Canada', fontsize=16)\n",
    "plt.xlabel('Province')\n",
    "plt.ylabel('Total Immigrants')\n",
    "plt.tight_layout()\n",
    "plt.show()\n",
    "\n"
   ]
  },
  {
   "cell_type": "code",
   "execution_count": 28,
   "id": "b473330d",
   "metadata": {},
   "outputs": [
    {
     "data": {
      "image/png": "[encoded data removed]",
      "text/plain": [
       "<Figure size 800x800 with 1 Axes>"
      ]
     },
     "metadata": {},
     "output_type": "display_data"
    }
   ],
   "source": [
    "# Summarize by ethnic origin\n",
    "ethnic_distribution = final_combined_data.groupby('Ethnic or Cultural Origin')[\n",
    "    'Ethnic or cultural origin: Single or multiple response indicator (3):Total - Single and multiple ethnic or cultural origin responses[1]'\n",
    "].sum().reset_index()\n",
    "\n",
    "# Rename columns for readability\n",
    "ethnic_distribution.columns = ['Ethnic Origin', 'Total Immigrants']\n",
    "\n",
    "# Plot\n",
    "plt.figure(figsize=(8, 8))\n",
    "plt.pie(\n",
    "    ethnic_distribution['Total Immigrants'],\n",
    "    labels=ethnic_distribution['Ethnic Origin'],\n",
    "    autopct='%1.1f%%',\n",
    "    startangle=140,\n",
    "    colors=sns.color_palette('tab10', len(ethnic_distribution))\n",
    ")\n",
    "plt.title('Distribution of Ethnic Origins in Canada', fontsize=16)\n",
    "plt.tight_layout()\n",
    "plt.show()\n"
   ]
  },
  {
   "cell_type": "code",
   "execution_count": 29,
   "id": "6ea21124",
   "metadata": {},
   "outputs": [
    {
     "data": {
      "image/png": "[encoded data removed]",
      "text/plain": [
       "<Figure size 1400x1000 with 2 Axes>"
      ]
     },
     "metadata": {},
     "output_type": "display_data"
    }
   ],
   "source": [
    "# Pivot table for heatmap\n",
    "heatmap_data = final_combined_data.pivot_table(\n",
    "    index='Ethnic or Cultural Origin',\n",
    "    columns='GEO',\n",
    "    values='Ethnic or cultural origin: Single or multiple response indicator (3):Total - Single and multiple ethnic or cultural origin responses[1]',\n",
    "    aggfunc='sum',\n",
    "    fill_value=0\n",
    ")\n",
    "\n",
    "# Plot heatmap\n",
    "plt.figure(figsize=(14, 10))\n",
    "sns.heatmap(heatmap_data, cmap='coolwarm', linewidths=0.5)\n",
    "plt.title('Immigration Heatmap by Province and Ethnic Origin', fontsize=16)\n",
    "plt.xlabel('Province')\n",
    "plt.ylabel('Ethnic Origin')\n",
    "plt.show()\n"
   ]
  }
 ],
 "metadata": {
  "kernelspec": {
   "display_name": "base",
   "language": "python",
   "name": "python3"
  },
  "language_info": {
   "codemirror_mode": {
    "name": "ipython",
    "version": 3
   },
   "file_extension": ".py",
   "mimetype": "text/x-python",
   "name": "python",
   "nbconvert_exporter": "python",
   "pygments_lexer": "ipython3",
   "version": "3.10.14"
  }
 },
 "nbformat": 4,
 "nbformat_minor": 5
}
